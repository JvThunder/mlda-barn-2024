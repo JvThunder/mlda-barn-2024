{
 "cells": [
  {
   "cell_type": "code",
   "execution_count": 2,
   "metadata": {},
   "outputs": [
    {
     "data": {
      "text/html": [
       "<div>\n",
       "<style scoped>\n",
       "    .dataframe tbody tr th:only-of-type {\n",
       "        vertical-align: middle;\n",
       "    }\n",
       "\n",
       "    .dataframe tbody tr th {\n",
       "        vertical-align: top;\n",
       "    }\n",
       "\n",
       "    .dataframe thead th {\n",
       "        text-align: right;\n",
       "    }\n",
       "</style>\n",
       "<table border=\"1\" class=\"dataframe\">\n",
       "  <thead>\n",
       "    <tr style=\"text-align: right;\">\n",
       "      <th></th>\n",
       "      <th>success</th>\n",
       "      <th>actual_time</th>\n",
       "      <th>optimal_time</th>\n",
       "      <th>world_idx</th>\n",
       "      <th>timestep</th>\n",
       "      <th>goal_x</th>\n",
       "      <th>goal_y</th>\n",
       "      <th>lidar_0</th>\n",
       "      <th>lidar_1</th>\n",
       "      <th>lidar_2</th>\n",
       "      <th>...</th>\n",
       "      <th>lidar_359</th>\n",
       "      <th>pos_x</th>\n",
       "      <th>pos_y</th>\n",
       "      <th>pose_heading</th>\n",
       "      <th>twist_linear</th>\n",
       "      <th>twist_angular</th>\n",
       "      <th>cmd_vel_linear</th>\n",
       "      <th>cmd_vel_angular</th>\n",
       "      <th>local_goal_x</th>\n",
       "      <th>local_goal_y</th>\n",
       "    </tr>\n",
       "  </thead>\n",
       "  <tbody>\n",
       "    <tr>\n",
       "      <th>0</th>\n",
       "      <td>True</td>\n",
       "      <td>11.53</td>\n",
       "      <td>6.776516</td>\n",
       "      <td>0</td>\n",
       "      <td>0</td>\n",
       "      <td>0.0</td>\n",
       "      <td>10.0</td>\n",
       "      <td>2.953487</td>\n",
       "      <td>2.869737</td>\n",
       "      <td>2.848471</td>\n",
       "      <td>...</td>\n",
       "      <td>3.010891</td>\n",
       "      <td>-0.000056</td>\n",
       "      <td>0.001010</td>\n",
       "      <td>1.547277</td>\n",
       "      <td>0.015216</td>\n",
       "      <td>0.004864</td>\n",
       "      <td>0.09</td>\n",
       "      <td>0.013916</td>\n",
       "      <td>0.997539</td>\n",
       "      <td>0.073423</td>\n",
       "    </tr>\n",
       "    <tr>\n",
       "      <th>1</th>\n",
       "      <td>True</td>\n",
       "      <td>11.53</td>\n",
       "      <td>6.776516</td>\n",
       "      <td>0</td>\n",
       "      <td>1</td>\n",
       "      <td>0.0</td>\n",
       "      <td>10.0</td>\n",
       "      <td>2.956702</td>\n",
       "      <td>2.871896</td>\n",
       "      <td>2.849361</td>\n",
       "      <td>...</td>\n",
       "      <td>3.011203</td>\n",
       "      <td>-0.000025</td>\n",
       "      <td>0.002372</td>\n",
       "      <td>1.547351</td>\n",
       "      <td>0.038166</td>\n",
       "      <td>0.012513</td>\n",
       "      <td>0.12</td>\n",
       "      <td>0.018555</td>\n",
       "      <td>1.021175</td>\n",
       "      <td>0.073934</td>\n",
       "    </tr>\n",
       "    <tr>\n",
       "      <th>2</th>\n",
       "      <td>True</td>\n",
       "      <td>11.53</td>\n",
       "      <td>6.776516</td>\n",
       "      <td>0</td>\n",
       "      <td>2</td>\n",
       "      <td>0.0</td>\n",
       "      <td>10.0</td>\n",
       "      <td>2.958278</td>\n",
       "      <td>2.869057</td>\n",
       "      <td>2.851222</td>\n",
       "      <td>...</td>\n",
       "      <td>3.013201</td>\n",
       "      <td>0.000020</td>\n",
       "      <td>0.004364</td>\n",
       "      <td>1.547393</td>\n",
       "      <td>0.065010</td>\n",
       "      <td>0.006605</td>\n",
       "      <td>0.15</td>\n",
       "      <td>0.023194</td>\n",
       "      <td>1.019185</td>\n",
       "      <td>0.073891</td>\n",
       "    </tr>\n",
       "    <tr>\n",
       "      <th>3</th>\n",
       "      <td>True</td>\n",
       "      <td>11.53</td>\n",
       "      <td>6.776516</td>\n",
       "      <td>0</td>\n",
       "      <td>3</td>\n",
       "      <td>0.0</td>\n",
       "      <td>10.0</td>\n",
       "      <td>2.960670</td>\n",
       "      <td>2.870363</td>\n",
       "      <td>2.851820</td>\n",
       "      <td>...</td>\n",
       "      <td>3.010752</td>\n",
       "      <td>0.000080</td>\n",
       "      <td>0.006967</td>\n",
       "      <td>1.547525</td>\n",
       "      <td>0.093685</td>\n",
       "      <td>0.022431</td>\n",
       "      <td>0.18</td>\n",
       "      <td>0.011172</td>\n",
       "      <td>1.016592</td>\n",
       "      <td>0.073756</td>\n",
       "    </tr>\n",
       "    <tr>\n",
       "      <th>4</th>\n",
       "      <td>True</td>\n",
       "      <td>11.53</td>\n",
       "      <td>6.776516</td>\n",
       "      <td>0</td>\n",
       "      <td>4</td>\n",
       "      <td>0.0</td>\n",
       "      <td>10.0</td>\n",
       "      <td>2.962370</td>\n",
       "      <td>2.871268</td>\n",
       "      <td>2.855664</td>\n",
       "      <td>...</td>\n",
       "      <td>3.011739</td>\n",
       "      <td>0.000154</td>\n",
       "      <td>0.010177</td>\n",
       "      <td>1.547590</td>\n",
       "      <td>0.123362</td>\n",
       "      <td>0.008801</td>\n",
       "      <td>0.21</td>\n",
       "      <td>0.013033</td>\n",
       "      <td>1.013386</td>\n",
       "      <td>0.073689</td>\n",
       "    </tr>\n",
       "  </tbody>\n",
       "</table>\n",
       "<p>5 rows × 376 columns</p>\n",
       "</div>"
      ],
      "text/plain": [
       "   success  actual_time  optimal_time  world_idx  timestep  goal_x  goal_y  \\\n",
       "0     True        11.53      6.776516          0         0     0.0    10.0   \n",
       "1     True        11.53      6.776516          0         1     0.0    10.0   \n",
       "2     True        11.53      6.776516          0         2     0.0    10.0   \n",
       "3     True        11.53      6.776516          0         3     0.0    10.0   \n",
       "4     True        11.53      6.776516          0         4     0.0    10.0   \n",
       "\n",
       "    lidar_0   lidar_1   lidar_2  ...  lidar_359     pos_x     pos_y  \\\n",
       "0  2.953487  2.869737  2.848471  ...   3.010891 -0.000056  0.001010   \n",
       "1  2.956702  2.871896  2.849361  ...   3.011203 -0.000025  0.002372   \n",
       "2  2.958278  2.869057  2.851222  ...   3.013201  0.000020  0.004364   \n",
       "3  2.960670  2.870363  2.851820  ...   3.010752  0.000080  0.006967   \n",
       "4  2.962370  2.871268  2.855664  ...   3.011739  0.000154  0.010177   \n",
       "\n",
       "   pose_heading  twist_linear  twist_angular  cmd_vel_linear  cmd_vel_angular  \\\n",
       "0      1.547277      0.015216       0.004864            0.09         0.013916   \n",
       "1      1.547351      0.038166       0.012513            0.12         0.018555   \n",
       "2      1.547393      0.065010       0.006605            0.15         0.023194   \n",
       "3      1.547525      0.093685       0.022431            0.18         0.011172   \n",
       "4      1.547590      0.123362       0.008801            0.21         0.013033   \n",
       "\n",
       "   local_goal_x  local_goal_y  \n",
       "0      0.997539      0.073423  \n",
       "1      1.021175      0.073934  \n",
       "2      1.019185      0.073891  \n",
       "3      1.016592      0.073756  \n",
       "4      1.013386      0.073689  \n",
       "\n",
       "[5 rows x 376 columns]"
      ]
     },
     "execution_count": 2,
     "metadata": {},
     "output_type": "execute_result"
    }
   ],
   "source": [
    "import pandas as pd\n",
    "\n",
    "df = pd.read_csv('../inspection_data/data_50Hz.csv')\n",
    "df.head()"
   ]
  },
  {
   "cell_type": "code",
   "execution_count": 3,
   "metadata": {},
   "outputs": [
    {
     "data": {
      "text/plain": [
       "success\n",
       "True     554973\n",
       "False     51347\n",
       "Name: count, dtype: int64"
      ]
     },
     "execution_count": 3,
     "metadata": {},
     "output_type": "execute_result"
    }
   ],
   "source": [
    "df['success'].value_counts()"
   ]
  },
  {
   "cell_type": "code",
   "execution_count": 4,
   "metadata": {},
   "outputs": [
    {
     "data": {
      "text/plain": [
       "success\n",
       "True     900\n",
       "False    141\n",
       "Name: count, dtype: int64"
      ]
     },
     "execution_count": 4,
     "metadata": {},
     "output_type": "execute_result"
    }
   ],
   "source": [
    "df[df['timestep']==0]['success'].value_counts()"
   ]
  },
  {
   "cell_type": "code",
   "execution_count": 5,
   "metadata": {},
   "outputs": [
    {
     "data": {
      "text/plain": [
       "success\n",
       "True     0.864553\n",
       "False    0.135447\n",
       "Name: proportion, dtype: float64"
      ]
     },
     "execution_count": 5,
     "metadata": {},
     "output_type": "execute_result"
    }
   ],
   "source": [
    "# calculate the success rate\n",
    "df[df['timestep']==0]['success'].value_counts(normalize=True)"
   ]
  },
  {
   "cell_type": "code",
   "execution_count": 6,
   "metadata": {},
   "outputs": [
    {
     "data": {
      "text/plain": [
       "success\n",
       "True     0.97\n",
       "False    0.03\n",
       "Name: proportion, dtype: float64"
      ]
     },
     "execution_count": 6,
     "metadata": {},
     "output_type": "execute_result"
    }
   ],
   "source": [
    "# calculate the success rate first run of every world_idx\n",
    "df[df['timestep']==0].groupby('world_idx')['success'].first().value_counts(normalize=True)"
   ]
  },
  {
   "cell_type": "code",
   "execution_count": 7,
   "metadata": {},
   "outputs": [
    {
     "data": {
      "text/plain": [
       "<Axes: >"
      ]
     },
     "execution_count": 7,
     "metadata": {},
     "output_type": "execute_result"
    },
    {
     "data": {
      "image/png": "[encoded data removed]",
      "text/plain": [
       "<Figure size 640x480 with 1 Axes>"
      ]
     },
     "metadata": {},
     "output_type": "display_data"
    }
   ],
   "source": [
    "# plot histogram of the data\n",
    "df['cmd_vel_linear'].hist()"
   ]
  },
  {
   "cell_type": "code",
   "execution_count": 8,
   "metadata": {},
   "outputs": [
    {
     "data": {
      "text/plain": [
       "<Axes: >"
      ]
     },
     "execution_count": 8,
     "metadata": {},
     "output_type": "execute_result"
    },
    {
     "data": {
      "image/png": "[encoded data removed]",
      "text/plain": [
       "<Figure size 640x480 with 1 Axes>"
      ]
     },
     "metadata": {},
     "output_type": "display_data"
    }
   ],
   "source": [
    "df['cmd_vel_angular'].hist()"
   ]
  },
  {
   "cell_type": "code",
   "execution_count": 9,
   "metadata": {},
   "outputs": [],
   "source": [
    "# remove success == False\n",
    "df = df[df['success'] == True]"
   ]
  },
  {
   "cell_type": "code",
   "execution_count": 10,
   "metadata": {},
   "outputs": [
    {
     "name": "stdout",
     "output_type": "stream",
     "text": [
      "Empty DataFrame\n",
      "Columns: [success, actual_time, optimal_time, world_idx, timestep, goal_x, goal_y, lidar_0, lidar_1, lidar_2, lidar_3, lidar_4, lidar_5, lidar_6, lidar_7, lidar_8, lidar_9, lidar_10, lidar_11, lidar_12, lidar_13, lidar_14, lidar_15, lidar_16, lidar_17, lidar_18, lidar_19, lidar_20, lidar_21, lidar_22, lidar_23, lidar_24, lidar_25, lidar_26, lidar_27, lidar_28, lidar_29, lidar_30, lidar_31, lidar_32, lidar_33, lidar_34, lidar_35, lidar_36, lidar_37, lidar_38, lidar_39, lidar_40, lidar_41, lidar_42, lidar_43, lidar_44, lidar_45, lidar_46, lidar_47, lidar_48, lidar_49, lidar_50, lidar_51, lidar_52, lidar_53, lidar_54, lidar_55, lidar_56, lidar_57, lidar_58, lidar_59, lidar_60, lidar_61, lidar_62, lidar_63, lidar_64, lidar_65, lidar_66, lidar_67, lidar_68, lidar_69, lidar_70, lidar_71, lidar_72, lidar_73, lidar_74, lidar_75, lidar_76, lidar_77, lidar_78, lidar_79, lidar_80, lidar_81, lidar_82, lidar_83, lidar_84, lidar_85, lidar_86, lidar_87, lidar_88, lidar_89, lidar_90, lidar_91, lidar_92, ...]\n",
      "Index: []\n",
      "\n",
      "[0 rows x 376 columns]\n"
     ]
    }
   ],
   "source": [
    "print(df[df.isnull().any(axis=1)])"
   ]
  },
  {
   "cell_type": "code",
   "execution_count": 11,
   "metadata": {},
   "outputs": [
    {
     "data": {
      "text/html": [
       "<div>\n",
       "<style scoped>\n",
       "    .dataframe tbody tr th:only-of-type {\n",
       "        vertical-align: middle;\n",
       "    }\n",
       "\n",
       "    .dataframe tbody tr th {\n",
       "        vertical-align: top;\n",
       "    }\n",
       "\n",
       "    .dataframe thead th {\n",
       "        text-align: right;\n",
       "    }\n",
       "</style>\n",
       "<table border=\"1\" class=\"dataframe\">\n",
       "  <thead>\n",
       "    <tr style=\"text-align: right;\">\n",
       "      <th></th>\n",
       "      <th>actual_time</th>\n",
       "      <th>optimal_time</th>\n",
       "      <th>world_idx</th>\n",
       "      <th>timestep</th>\n",
       "      <th>goal_x</th>\n",
       "      <th>goal_y</th>\n",
       "      <th>lidar_0</th>\n",
       "      <th>lidar_1</th>\n",
       "      <th>lidar_2</th>\n",
       "      <th>lidar_3</th>\n",
       "      <th>...</th>\n",
       "      <th>lidar_359</th>\n",
       "      <th>pos_x</th>\n",
       "      <th>pos_y</th>\n",
       "      <th>pose_heading</th>\n",
       "      <th>twist_linear</th>\n",
       "      <th>twist_angular</th>\n",
       "      <th>cmd_vel_linear</th>\n",
       "      <th>cmd_vel_angular</th>\n",
       "      <th>local_goal_x</th>\n",
       "      <th>local_goal_y</th>\n",
       "    </tr>\n",
       "  </thead>\n",
       "  <tbody>\n",
       "    <tr>\n",
       "      <th>count</th>\n",
       "      <td>554973.000000</td>\n",
       "      <td>554973.000000</td>\n",
       "      <td>554973.000000</td>\n",
       "      <td>554973.000000</td>\n",
       "      <td>554973.0</td>\n",
       "      <td>554973.0</td>\n",
       "      <td>554973.000000</td>\n",
       "      <td>554973.000000</td>\n",
       "      <td>554973.000000</td>\n",
       "      <td>554973.000000</td>\n",
       "      <td>...</td>\n",
       "      <td>554973.000000</td>\n",
       "      <td>554973.000000</td>\n",
       "      <td>554973.000000</td>\n",
       "      <td>554973.000000</td>\n",
       "      <td>554973.000000</td>\n",
       "      <td>554973.000000</td>\n",
       "      <td>554973.000000</td>\n",
       "      <td>554973.000000</td>\n",
       "      <td>554973.000000</td>\n",
       "      <td>554973.000000</td>\n",
       "    </tr>\n",
       "    <tr>\n",
       "      <th>mean</th>\n",
       "      <td>12.259048</td>\n",
       "      <td>5.716841</td>\n",
       "      <td>151.319140</td>\n",
       "      <td>313.696198</td>\n",
       "      <td>0.0</td>\n",
       "      <td>10.0</td>\n",
       "      <td>2.626697</td>\n",
       "      <td>2.610495</td>\n",
       "      <td>2.594688</td>\n",
       "      <td>2.580224</td>\n",
       "      <td>...</td>\n",
       "      <td>2.570933</td>\n",
       "      <td>-0.026526</td>\n",
       "      <td>4.470110</td>\n",
       "      <td>1.549228</td>\n",
       "      <td>0.775685</td>\n",
       "      <td>-0.000481</td>\n",
       "      <td>0.776109</td>\n",
       "      <td>-0.001090</td>\n",
       "      <td>0.977993</td>\n",
       "      <td>0.001147</td>\n",
       "    </tr>\n",
       "    <tr>\n",
       "      <th>std</th>\n",
       "      <td>2.273365</td>\n",
       "      <td>0.373244</td>\n",
       "      <td>86.703978</td>\n",
       "      <td>192.859723</td>\n",
       "      <td>0.0</td>\n",
       "      <td>0.0</td>\n",
       "      <td>1.296723</td>\n",
       "      <td>1.294866</td>\n",
       "      <td>1.293297</td>\n",
       "      <td>1.293029</td>\n",
       "      <td>...</td>\n",
       "      <td>1.310691</td>\n",
       "      <td>0.573949</td>\n",
       "      <td>2.647403</td>\n",
       "      <td>0.413160</td>\n",
       "      <td>0.124030</td>\n",
       "      <td>0.316548</td>\n",
       "      <td>0.119066</td>\n",
       "      <td>0.290502</td>\n",
       "      <td>0.152300</td>\n",
       "      <td>0.207453</td>\n",
       "    </tr>\n",
       "    <tr>\n",
       "      <th>min</th>\n",
       "      <td>11.165000</td>\n",
       "      <td>5.012248</td>\n",
       "      <td>0.000000</td>\n",
       "      <td>0.000000</td>\n",
       "      <td>0.0</td>\n",
       "      <td>10.0</td>\n",
       "      <td>0.292027</td>\n",
       "      <td>0.287642</td>\n",
       "      <td>0.285270</td>\n",
       "      <td>0.281570</td>\n",
       "      <td>...</td>\n",
       "      <td>0.217051</td>\n",
       "      <td>-1.811188</td>\n",
       "      <td>0.000263</td>\n",
       "      <td>-3.141152</td>\n",
       "      <td>-0.318413</td>\n",
       "      <td>-2.506347</td>\n",
       "      <td>-0.300000</td>\n",
       "      <td>-1.570796</td>\n",
       "      <td>-1.024131</td>\n",
       "      <td>-1.025240</td>\n",
       "    </tr>\n",
       "    <tr>\n",
       "      <th>25%</th>\n",
       "      <td>11.404000</td>\n",
       "      <td>5.449447</td>\n",
       "      <td>77.000000</td>\n",
       "      <td>154.000000</td>\n",
       "      <td>0.0</td>\n",
       "      <td>10.0</td>\n",
       "      <td>1.538159</td>\n",
       "      <td>1.527395</td>\n",
       "      <td>1.516633</td>\n",
       "      <td>1.505974</td>\n",
       "      <td>...</td>\n",
       "      <td>1.476724</td>\n",
       "      <td>-0.378162</td>\n",
       "      <td>2.188165</td>\n",
       "      <td>1.436482</td>\n",
       "      <td>0.800021</td>\n",
       "      <td>-0.083711</td>\n",
       "      <td>0.800000</td>\n",
       "      <td>-0.089032</td>\n",
       "      <td>0.998515</td>\n",
       "      <td>-0.058111</td>\n",
       "    </tr>\n",
       "    <tr>\n",
       "      <th>50%</th>\n",
       "      <td>11.612000</td>\n",
       "      <td>5.628741</td>\n",
       "      <td>151.000000</td>\n",
       "      <td>308.000000</td>\n",
       "      <td>0.0</td>\n",
       "      <td>10.0</td>\n",
       "      <td>2.648689</td>\n",
       "      <td>2.628465</td>\n",
       "      <td>2.607874</td>\n",
       "      <td>2.588119</td>\n",
       "      <td>...</td>\n",
       "      <td>2.566847</td>\n",
       "      <td>-0.030590</td>\n",
       "      <td>4.385300</td>\n",
       "      <td>1.585563</td>\n",
       "      <td>0.800496</td>\n",
       "      <td>-0.002824</td>\n",
       "      <td>0.800000</td>\n",
       "      <td>-0.007541</td>\n",
       "      <td>1.006663</td>\n",
       "      <td>-0.003594</td>\n",
       "    </tr>\n",
       "    <tr>\n",
       "      <th>75%</th>\n",
       "      <td>12.027000</td>\n",
       "      <td>5.923911</td>\n",
       "      <td>227.000000</td>\n",
       "      <td>462.000000</td>\n",
       "      <td>0.0</td>\n",
       "      <td>10.0</td>\n",
       "      <td>3.427153</td>\n",
       "      <td>3.398267</td>\n",
       "      <td>3.370909</td>\n",
       "      <td>3.345454</td>\n",
       "      <td>...</td>\n",
       "      <td>3.367440</td>\n",
       "      <td>0.312517</td>\n",
       "      <td>6.744542</td>\n",
       "      <td>1.710501</td>\n",
       "      <td>0.801997</td>\n",
       "      <td>0.061823</td>\n",
       "      <td>0.800000</td>\n",
       "      <td>0.069420</td>\n",
       "      <td>1.014649</td>\n",
       "      <td>0.050435</td>\n",
       "    </tr>\n",
       "    <tr>\n",
       "      <th>max</th>\n",
       "      <td>33.139000</td>\n",
       "      <td>6.930695</td>\n",
       "      <td>299.000000</td>\n",
       "      <td>1670.000000</td>\n",
       "      <td>0.0</td>\n",
       "      <td>10.0</td>\n",
       "      <td>5.000000</td>\n",
       "      <td>5.000000</td>\n",
       "      <td>5.000000</td>\n",
       "      <td>5.000000</td>\n",
       "      <td>...</td>\n",
       "      <td>5.000000</td>\n",
       "      <td>1.894076</td>\n",
       "      <td>9.340227</td>\n",
       "      <td>3.141573</td>\n",
       "      <td>0.821323</td>\n",
       "      <td>2.281988</td>\n",
       "      <td>0.800000</td>\n",
       "      <td>1.570796</td>\n",
       "      <td>1.051611</td>\n",
       "      <td>1.023490</td>\n",
       "    </tr>\n",
       "  </tbody>\n",
       "</table>\n",
       "<p>8 rows × 375 columns</p>\n",
       "</div>"
      ],
      "text/plain": [
       "         actual_time   optimal_time      world_idx       timestep    goal_x  \\\n",
       "count  554973.000000  554973.000000  554973.000000  554973.000000  554973.0   \n",
       "mean       12.259048       5.716841     151.319140     313.696198       0.0   \n",
       "std         2.273365       0.373244      86.703978     192.859723       0.0   \n",
       "min        11.165000       5.012248       0.000000       0.000000       0.0   \n",
       "25%        11.404000       5.449447      77.000000     154.000000       0.0   \n",
       "50%        11.612000       5.628741     151.000000     308.000000       0.0   \n",
       "75%        12.027000       5.923911     227.000000     462.000000       0.0   \n",
       "max        33.139000       6.930695     299.000000    1670.000000       0.0   \n",
       "\n",
       "         goal_y        lidar_0        lidar_1        lidar_2        lidar_3  \\\n",
       "count  554973.0  554973.000000  554973.000000  554973.000000  554973.000000   \n",
       "mean       10.0       2.626697       2.610495       2.594688       2.580224   \n",
       "std         0.0       1.296723       1.294866       1.293297       1.293029   \n",
       "min        10.0       0.292027       0.287642       0.285270       0.281570   \n",
       "25%        10.0       1.538159       1.527395       1.516633       1.505974   \n",
       "50%        10.0       2.648689       2.628465       2.607874       2.588119   \n",
       "75%        10.0       3.427153       3.398267       3.370909       3.345454   \n",
       "max        10.0       5.000000       5.000000       5.000000       5.000000   \n",
       "\n",
       "       ...      lidar_359          pos_x          pos_y   pose_heading  \\\n",
       "count  ...  554973.000000  554973.000000  554973.000000  554973.000000   \n",
       "mean   ...       2.570933      -0.026526       4.470110       1.549228   \n",
       "std    ...       1.310691       0.573949       2.647403       0.413160   \n",
       "min    ...       0.217051      -1.811188       0.000263      -3.141152   \n",
       "25%    ...       1.476724      -0.378162       2.188165       1.436482   \n",
       "50%    ...       2.566847      -0.030590       4.385300       1.585563   \n",
       "75%    ...       3.367440       0.312517       6.744542       1.710501   \n",
       "max    ...       5.000000       1.894076       9.340227       3.141573   \n",
       "\n",
       "        twist_linear  twist_angular  cmd_vel_linear  cmd_vel_angular  \\\n",
       "count  554973.000000  554973.000000   554973.000000    554973.000000   \n",
       "mean        0.775685      -0.000481        0.776109        -0.001090   \n",
       "std         0.124030       0.316548        0.119066         0.290502   \n",
       "min        -0.318413      -2.506347       -0.300000        -1.570796   \n",
       "25%         0.800021      -0.083711        0.800000        -0.089032   \n",
       "50%         0.800496      -0.002824        0.800000        -0.007541   \n",
       "75%         0.801997       0.061823        0.800000         0.069420   \n",
       "max         0.821323       2.281988        0.800000         1.570796   \n",
       "\n",
       "        local_goal_x   local_goal_y  \n",
       "count  554973.000000  554973.000000  \n",
       "mean        0.977993       0.001147  \n",
       "std         0.152300       0.207453  \n",
       "min        -1.024131      -1.025240  \n",
       "25%         0.998515      -0.058111  \n",
       "50%         1.006663      -0.003594  \n",
       "75%         1.014649       0.050435  \n",
       "max         1.051611       1.023490  \n",
       "\n",
       "[8 rows x 375 columns]"
      ]
     },
     "execution_count": 11,
     "metadata": {},
     "output_type": "execute_result"
    }
   ],
   "source": [
    "df.describe()"
   ]
  },
  {
   "cell_type": "code",
   "execution_count": 12,
   "metadata": {},
   "outputs": [
    {
     "data": {
      "text/plain": [
       "635.53"
      ]
     },
     "execution_count": 12,
     "metadata": {},
     "output_type": "execute_result"
    }
   ],
   "source": [
    "# only take success == True\n",
    "df = df[df['success'] == True]\n",
    "\n",
    "# calculate the average episode length\n",
    "df.groupby('world_idx')['timestep'].max().mean()"
   ]
  },
  {
   "cell_type": "code",
   "execution_count": 16,
   "metadata": {},
   "outputs": [
    {
     "data": {
      "text/plain": [
       "<Axes: >"
      ]
     },
     "execution_count": 16,
     "metadata": {},
     "output_type": "execute_result"
    },
    {
     "data": {
      "image/png": "[encoded data removed]",
      "text/plain": [
       "<Figure size 640x480 with 1 Axes>"
      ]
     },
     "metadata": {},
     "output_type": "display_data"
    }
   ],
   "source": [
    "# histogram of the episode length\n",
    "df.groupby('world_idx')['timestep'].max().hist(bins=50)"
   ]
  },
  {
   "cell_type": "code",
   "execution_count": 14,
   "metadata": {},
   "outputs": [
    {
     "data": {
      "text/plain": [
       "success\n",
       "True    554973\n",
       "Name: count, dtype: int64"
      ]
     },
     "execution_count": 14,
     "metadata": {},
     "output_type": "execute_result"
    }
   ],
   "source": [
    "# calculate the number of unsuccessful group by world_idx\n",
    "df['success'].value_counts()"
   ]
  },
  {
   "cell_type": "code",
   "execution_count": 15,
   "metadata": {},
   "outputs": [
    {
     "data": {
      "text/plain": [
       "900"
      ]
     },
     "execution_count": 15,
     "metadata": {},
     "output_type": "execute_result"
    }
   ],
   "source": [
    "len(df[df['timestep']==0])"
   ]
  },
  {
   "cell_type": "code",
   "execution_count": null,
   "metadata": {},
   "outputs": [],
   "source": []
  }
 ],
 "metadata": {
  "kernelspec": {
   "display_name": "videocrafter",
   "language": "python",
   "name": "python3"
  },
  "language_info": {
   "codemirror_mode": {
    "name": "ipython",
    "version": 3
   },
   "file_extension": ".py",
   "mimetype": "text/x-python",
   "name": "python",
   "nbconvert_exporter": "python",
   "pygments_lexer": "ipython3",
   "version": "3.8.5"
  }
 },
 "nbformat": 4,
 "nbformat_minor": 2
}
