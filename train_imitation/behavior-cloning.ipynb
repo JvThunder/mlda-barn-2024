{
 "cells": [
  {
   "cell_type": "code",
   "execution_count": 1,
   "metadata": {},
   "outputs": [
    {
     "data": {
      "text/html": [
       "<div>\n",
       "<style scoped>\n",
       "    .dataframe tbody tr th:only-of-type {\n",
       "        vertical-align: middle;\n",
       "    }\n",
       "\n",
       "    .dataframe tbody tr th {\n",
       "        vertical-align: top;\n",
       "    }\n",
       "\n",
       "    .dataframe thead th {\n",
       "        text-align: right;\n",
       "    }\n",
       "</style>\n",
       "<table border=\"1\" class=\"dataframe\">\n",
       "  <thead>\n",
       "    <tr style=\"text-align: right;\">\n",
       "      <th></th>\n",
       "      <th>success</th>\n",
       "      <th>actual_time</th>\n",
       "      <th>optimal_time</th>\n",
       "      <th>world_idx</th>\n",
       "      <th>timestep</th>\n",
       "      <th>goal_x</th>\n",
       "      <th>goal_y</th>\n",
       "      <th>lidar_0</th>\n",
       "      <th>lidar_1</th>\n",
       "      <th>lidar_2</th>\n",
       "      <th>...</th>\n",
       "      <th>lidar_359</th>\n",
       "      <th>pos_x</th>\n",
       "      <th>pos_y</th>\n",
       "      <th>pose_heading</th>\n",
       "      <th>twist_linear</th>\n",
       "      <th>twist_angular</th>\n",
       "      <th>cmd_vel_linear</th>\n",
       "      <th>cmd_vel_angular</th>\n",
       "      <th>local_goal_x</th>\n",
       "      <th>local_goal_y</th>\n",
       "    </tr>\n",
       "  </thead>\n",
       "  <tbody>\n",
       "    <tr>\n",
       "      <th>0</th>\n",
       "      <td>True</td>\n",
       "      <td>11.53</td>\n",
       "      <td>6.776516</td>\n",
       "      <td>0</td>\n",
       "      <td>0</td>\n",
       "      <td>0.0</td>\n",
       "      <td>10.0</td>\n",
       "      <td>2.953487</td>\n",
       "      <td>2.869737</td>\n",
       "      <td>2.848471</td>\n",
       "      <td>...</td>\n",
       "      <td>3.010891</td>\n",
       "      <td>-0.000056</td>\n",
       "      <td>0.001010</td>\n",
       "      <td>1.547277</td>\n",
       "      <td>0.015216</td>\n",
       "      <td>0.004864</td>\n",
       "      <td>0.09</td>\n",
       "      <td>0.013916</td>\n",
       "      <td>0.997539</td>\n",
       "      <td>0.073423</td>\n",
       "    </tr>\n",
       "    <tr>\n",
       "      <th>1</th>\n",
       "      <td>True</td>\n",
       "      <td>11.53</td>\n",
       "      <td>6.776516</td>\n",
       "      <td>0</td>\n",
       "      <td>1</td>\n",
       "      <td>0.0</td>\n",
       "      <td>10.0</td>\n",
       "      <td>2.956702</td>\n",
       "      <td>2.871896</td>\n",
       "      <td>2.849361</td>\n",
       "      <td>...</td>\n",
       "      <td>3.011203</td>\n",
       "      <td>-0.000025</td>\n",
       "      <td>0.002372</td>\n",
       "      <td>1.547351</td>\n",
       "      <td>0.038166</td>\n",
       "      <td>0.012513</td>\n",
       "      <td>0.12</td>\n",
       "      <td>0.018555</td>\n",
       "      <td>1.021175</td>\n",
       "      <td>0.073934</td>\n",
       "    </tr>\n",
       "    <tr>\n",
       "      <th>2</th>\n",
       "      <td>True</td>\n",
       "      <td>11.53</td>\n",
       "      <td>6.776516</td>\n",
       "      <td>0</td>\n",
       "      <td>2</td>\n",
       "      <td>0.0</td>\n",
       "      <td>10.0</td>\n",
       "      <td>2.958278</td>\n",
       "      <td>2.869057</td>\n",
       "      <td>2.851222</td>\n",
       "      <td>...</td>\n",
       "      <td>3.013201</td>\n",
       "      <td>0.000020</td>\n",
       "      <td>0.004364</td>\n",
       "      <td>1.547393</td>\n",
       "      <td>0.065010</td>\n",
       "      <td>0.006605</td>\n",
       "      <td>0.15</td>\n",
       "      <td>0.023194</td>\n",
       "      <td>1.019185</td>\n",
       "      <td>0.073891</td>\n",
       "    </tr>\n",
       "    <tr>\n",
       "      <th>3</th>\n",
       "      <td>True</td>\n",
       "      <td>11.53</td>\n",
       "      <td>6.776516</td>\n",
       "      <td>0</td>\n",
       "      <td>3</td>\n",
       "      <td>0.0</td>\n",
       "      <td>10.0</td>\n",
       "      <td>2.960670</td>\n",
       "      <td>2.870363</td>\n",
       "      <td>2.851820</td>\n",
       "      <td>...</td>\n",
       "      <td>3.010752</td>\n",
       "      <td>0.000080</td>\n",
       "      <td>0.006967</td>\n",
       "      <td>1.547525</td>\n",
       "      <td>0.093685</td>\n",
       "      <td>0.022431</td>\n",
       "      <td>0.18</td>\n",
       "      <td>0.011172</td>\n",
       "      <td>1.016592</td>\n",
       "      <td>0.073756</td>\n",
       "    </tr>\n",
       "    <tr>\n",
       "      <th>4</th>\n",
       "      <td>True</td>\n",
       "      <td>11.53</td>\n",
       "      <td>6.776516</td>\n",
       "      <td>0</td>\n",
       "      <td>4</td>\n",
       "      <td>0.0</td>\n",
       "      <td>10.0</td>\n",
       "      <td>2.962370</td>\n",
       "      <td>2.871268</td>\n",
       "      <td>2.855664</td>\n",
       "      <td>...</td>\n",
       "      <td>3.011739</td>\n",
       "      <td>0.000154</td>\n",
       "      <td>0.010177</td>\n",
       "      <td>1.547590</td>\n",
       "      <td>0.123362</td>\n",
       "      <td>0.008801</td>\n",
       "      <td>0.21</td>\n",
       "      <td>0.013033</td>\n",
       "      <td>1.013386</td>\n",
       "      <td>0.073689</td>\n",
       "    </tr>\n",
       "  </tbody>\n",
       "</table>\n",
       "<p>5 rows × 376 columns</p>\n",
       "</div>"
      ],
      "text/plain": [
       "   success  actual_time  optimal_time  world_idx  timestep  goal_x  goal_y  \\\n",
       "0     True        11.53      6.776516          0         0     0.0    10.0   \n",
       "1     True        11.53      6.776516          0         1     0.0    10.0   \n",
       "2     True        11.53      6.776516          0         2     0.0    10.0   \n",
       "3     True        11.53      6.776516          0         3     0.0    10.0   \n",
       "4     True        11.53      6.776516          0         4     0.0    10.0   \n",
       "\n",
       "    lidar_0   lidar_1   lidar_2  ...  lidar_359     pos_x     pos_y  \\\n",
       "0  2.953487  2.869737  2.848471  ...   3.010891 -0.000056  0.001010   \n",
       "1  2.956702  2.871896  2.849361  ...   3.011203 -0.000025  0.002372   \n",
       "2  2.958278  2.869057  2.851222  ...   3.013201  0.000020  0.004364   \n",
       "3  2.960670  2.870363  2.851820  ...   3.010752  0.000080  0.006967   \n",
       "4  2.962370  2.871268  2.855664  ...   3.011739  0.000154  0.010177   \n",
       "\n",
       "   pose_heading  twist_linear  twist_angular  cmd_vel_linear  cmd_vel_angular  \\\n",
       "0      1.547277      0.015216       0.004864            0.09         0.013916   \n",
       "1      1.547351      0.038166       0.012513            0.12         0.018555   \n",
       "2      1.547393      0.065010       0.006605            0.15         0.023194   \n",
       "3      1.547525      0.093685       0.022431            0.18         0.011172   \n",
       "4      1.547590      0.123362       0.008801            0.21         0.013033   \n",
       "\n",
       "   local_goal_x  local_goal_y  \n",
       "0      0.997539      0.073423  \n",
       "1      1.021175      0.073934  \n",
       "2      1.019185      0.073891  \n",
       "3      1.016592      0.073756  \n",
       "4      1.013386      0.073689  \n",
       "\n",
       "[5 rows x 376 columns]"
      ]
     },
     "execution_count": 1,
     "metadata": {},
     "output_type": "execute_result"
    }
   ],
   "source": [
    "import warnings\n",
    "warnings.filterwarnings('ignore')\n",
    "\n",
    "import pandas as pd\n",
    "df = pd.read_csv('../inspection_data/data_50Hz.csv')\n",
    "df.head()"
   ]
  },
  {
   "cell_type": "code",
   "execution_count": 2,
   "metadata": {},
   "outputs": [],
   "source": [
    "# # remove rows with success = 0\n",
    "df = df[df['success'] == True]"
   ]
  },
  {
   "cell_type": "code",
   "execution_count": 3,
   "metadata": {},
   "outputs": [],
   "source": [
    "# torch Dataset\n",
    "from torch.utils.data import Dataset\n",
    "import numpy as np\n",
    "\n",
    "class KULBarnDataset(Dataset):\n",
    "    def get_normalized_goal(self):\n",
    "        x = self.data['pos_x']\n",
    "        y = self.data['pos_y']\n",
    "        goal_x = self.data['goal_x']\n",
    "        goal_y = self.data['goal_y']\n",
    "        theta = self.data['pose_heading']\n",
    "        self.data['goal_x'] = np.cos(theta) * (goal_x - x) + np.sin(theta) * (goal_y - y)\n",
    "        self.data['goal_y'] = -np.sin(theta) * (goal_x - x) + np.cos(theta) * (goal_y - y)\n",
    "\n",
    "    def __init__(self, df, mode=\"train\"):\n",
    "        super().__init__()\n",
    "\n",
    "        self.data = df\n",
    "        self.get_normalized_goal()  \n",
    "        \n",
    "        # get all the column values that contain the word lidar\n",
    "        self.lidar_cols = [\"lidar_\" + str(i) for i in range(0, 360, 1)]\n",
    "        # get actions columns\n",
    "        self.actions_cols = ['cmd_vel_linear', 'cmd_vel_angular']\n",
    "        # get other columns\n",
    "        self.non_lidar_cols = ['local_goal_x', 'local_goal_y', 'goal_x', 'goal_y']\n",
    "\n",
    "        # if mode == \"train\":\n",
    "        #     # Manually compute the min and max values for each column\n",
    "        #     self.min = self.data.min()\n",
    "        #     self.max = self.data.max()\n",
    "        #     # Save the mean and std to a JSON file\n",
    "        #     scaler_params = {\n",
    "        #         'min': self.min.to_dict(),\n",
    "        #         'max': self.max.to_dict()\n",
    "        #     }\n",
    "        #     with open('scaler_params.json', 'w') as f:\n",
    "        #         json.dump(scaler_params, f)\n",
    "        # else:\n",
    "        #     # Load the mean and std from the JSON file\n",
    "        #     with open('scaler_params.json', 'r') as f:\n",
    "        #         scaler_params = json.load(f)\n",
    "        #     self.min = pd.Series(scaler_params['min'])\n",
    "        #     self.max = pd.Series(scaler_params['max'])\n",
    "        \n",
    "        # dont normalizer local_x and local_y\n",
    "        # self.normalized_data = (self.data - self.min) / (self.max - self.min)\n",
    "        self.normalized_data = self.data\n",
    "         \n",
    "        self.lidar_data = self.normalized_data[self.lidar_cols].values\n",
    "        self.non_lidar_data = self.normalized_data[self.non_lidar_cols].values\n",
    "        self.actions_data = self.normalized_data[self.actions_cols].values\n",
    "\n",
    "    def __len__(self):\n",
    "        return len(self.data)\n",
    "    \n",
    "    def __getitem__(self, idx):\n",
    "        lidar = self.lidar_data[idx]\n",
    "        non_lidar = self.non_lidar_data[idx]\n",
    "        actions = self.actions_data[idx]\n",
    "        return lidar, non_lidar, actions"
   ]
  },
  {
   "cell_type": "code",
   "execution_count": 4,
   "metadata": {},
   "outputs": [],
   "source": [
    "# take random 90% of the world ids for training\n",
    "ids = df['world_idx'].unique()\n",
    "\n",
    "test_ids = list(range(0, 300, 5))\n",
    "\n",
    "non_test_ids = np.setdiff1d(ids, test_ids)\n",
    "\n",
    "train_ids = np.random.choice(non_test_ids, int(0.8 * len(non_test_ids)), replace=False)\n",
    "train_df = df[df['world_idx'].isin(train_ids)]\n",
    "train_dataset = KULBarnDataset(train_df, mode=\"train\")\n",
    "\n",
    "# take the remaining of the world ids for validation\n",
    "val_ids = np.setdiff1d(non_test_ids, train_ids)\n",
    "val_df = df[df['world_idx'].isin(val_ids)]\n",
    "val_dataset = KULBarnDataset(val_df, mode=\"val\")"
   ]
  },
  {
   "cell_type": "code",
   "execution_count": 5,
   "metadata": {},
   "outputs": [
    {
     "name": "stdout",
     "output_type": "stream",
     "text": [
      "192 48\n"
     ]
    }
   ],
   "source": [
    "print(len(train_ids), len(val_ids))"
   ]
  },
  {
   "cell_type": "code",
   "execution_count": 6,
   "metadata": {},
   "outputs": [
    {
     "name": "stdout",
     "output_type": "stream",
     "text": [
      "Train Dataset Length: 356623\n",
      "Val Dataset Length: 86379\n"
     ]
    }
   ],
   "source": [
    "print(\"Train Dataset Length:\", len(train_dataset))\n",
    "print(\"Val Dataset Length:\", len(val_dataset))"
   ]
  },
  {
   "cell_type": "code",
   "execution_count": 7,
   "metadata": {},
   "outputs": [
    {
     "name": "stdout",
     "output_type": "stream",
     "text": [
      "Non lidar shape: torch.Size([64, 4])\n",
      "Lidar shape: torch.Size([64, 360])\n",
      "Train loader size: 5573\n",
      "Val loader size: 1350\n",
      "tensor([[1.2042, 1.2010, 1.2006,  ..., 0.7230, 0.7289, 0.7393],\n",
      "        [5.0000, 5.0000, 5.0000,  ..., 1.8720, 1.8806, 1.8984],\n",
      "        [4.3470, 4.5073, 4.7787,  ..., 0.6869, 0.7010, 0.8091],\n",
      "        ...,\n",
      "        [5.0000, 5.0000, 5.0000,  ..., 5.0000, 5.0000, 5.0000],\n",
      "        [1.0508, 1.0547, 1.0599,  ..., 5.0000, 5.0000, 5.0000],\n",
      "        [0.6421, 0.6455, 0.6493,  ..., 0.9102, 0.9169, 0.9384]],\n",
      "       dtype=torch.float64) tensor([[ 1.0088e+00, -3.5703e-02,  5.9112e+00, -5.7129e-01],\n",
      "        [ 9.8328e-01,  2.6551e-01,  3.7076e+00,  6.4741e+00],\n",
      "        [ 9.6028e-01,  2.8164e-01,  3.5545e+00,  4.2327e+00],\n",
      "        [ 9.8061e-01,  2.1264e-01,  5.1315e+00, -5.5955e+00],\n",
      "        [ 1.0209e+00,  3.8610e-02,  5.1080e+00, -4.9602e-01],\n",
      "        [ 1.0104e+00,  2.7528e-02,  6.7788e+00, -2.6475e-01],\n",
      "        [ 1.0004e+00, -5.7744e-02,  1.4542e+00, -1.6251e-01],\n",
      "        [ 1.0119e+00, -2.5100e-02,  3.0506e+00, -2.9924e-01],\n",
      "        [ 1.0069e+00, -1.2296e-01,  3.9403e+00, -1.7460e+00],\n",
      "        [ 1.0090e+00, -3.6122e-02,  7.7484e+00,  1.3032e-01],\n",
      "        [ 1.0080e+00, -1.3317e-02,  7.5919e+00, -4.8836e-01],\n",
      "        [ 1.0002e+00, -1.4965e-02,  8.9064e+00, -5.4051e-01],\n",
      "        [ 9.9914e-01,  5.2376e-02,  3.4837e+00,  4.0771e-01],\n",
      "        [ 1.0133e+00,  5.2077e-02,  6.4892e+00, -3.1805e+00],\n",
      "        [ 9.9290e-01, -1.7476e-01,  9.1501e+00, -2.2815e+00],\n",
      "        [ 1.0221e+00, -3.7916e-02,  6.0536e+00,  2.6381e+00],\n",
      "        [ 1.0132e+00,  2.1554e-02,  4.8650e+00, -5.9620e+00],\n",
      "        [ 1.0208e+00, -3.2034e-02,  2.1569e+00, -2.0510e-01],\n",
      "        [ 9.8783e-01, -2.3095e-01,  9.3185e+00, -2.5543e+00],\n",
      "        [ 1.0163e+00,  2.6597e-02,  3.0641e+00,  2.7689e-01],\n",
      "        [ 1.0194e+00, -1.8569e-02,  3.5326e+00, -3.1030e-01],\n",
      "        [ 9.2812e-01,  4.0370e-01,  7.2079e+00,  2.7026e+00],\n",
      "        [ 5.8466e-01,  8.2894e-01,  9.0175e+00,  1.8493e+00],\n",
      "        [ 1.0051e+00, -8.1195e-02,  9.8367e+00, -1.1837e+00],\n",
      "        [ 9.6387e-01, -2.6652e-01,  9.3919e+00,  4.0829e-01],\n",
      "        [ 1.0221e+00, -4.9108e-02,  1.3494e+00, -1.3721e-01],\n",
      "        [ 1.0143e+00, -4.1944e-02,  4.1394e+00, -1.8567e+00],\n",
      "        [ 8.4511e-01,  5.5641e-01,  3.5923e+00,  4.4006e+00],\n",
      "        [ 9.7460e-01, -3.1570e-01,  9.0821e+00, -3.3254e+00],\n",
      "        [ 1.0116e+00, -9.8198e-02,  9.4192e+00, -1.0825e+00],\n",
      "        [ 1.0092e+00, -5.9584e-02,  9.4674e+00, -5.9486e-01],\n",
      "        [ 1.0042e+00, -6.0068e-02,  3.5974e+00, -5.4265e-01],\n",
      "        [ 1.0087e+00,  2.3718e-02,  5.5580e+00,  5.1233e-01],\n",
      "        [ 1.0123e+00, -5.2790e-02,  7.8857e+00,  1.9171e+00],\n",
      "        [ 1.0190e+00, -6.4401e-02,  1.0429e+00, -7.3801e-02],\n",
      "        [ 1.0001e+00, -7.9665e-02,  6.7466e+00, -1.8980e+00],\n",
      "        [ 1.0006e+00, -7.2730e-02,  5.6946e+00,  5.1969e-01],\n",
      "        [ 1.0172e+00, -1.6333e-02,  7.6857e+00,  3.2575e-01],\n",
      "        [ 1.0231e+00, -5.5299e-02,  1.6526e+00, -1.6465e-01],\n",
      "        [ 1.0127e+00, -1.6862e-02,  2.7302e+00, -2.3087e-01],\n",
      "        [ 1.0081e+00, -4.3628e-02,  8.9231e+00, -1.0227e+00],\n",
      "        [ 1.0132e+00, -9.3155e-02,  6.7536e+00, -6.1629e-02],\n",
      "        [ 1.0033e+00,  2.3447e-02,  4.1229e+00, -2.2909e-01],\n",
      "        [ 1.0080e+00, -1.3892e-02,  3.0989e+00, -2.6336e-01],\n",
      "        [ 1.0109e+00, -1.9094e-02,  2.3763e+00, -2.3509e-01],\n",
      "        [ 8.7819e-01,  4.9778e-01,  4.5018e+00,  5.4920e+00],\n",
      "        [ 9.9255e-01, -1.6281e-01,  7.8612e+00,  4.1572e+00],\n",
      "        [ 1.0083e+00, -7.1334e-02,  7.6016e+00,  9.7430e-01],\n",
      "        [ 1.0005e+00, -5.3560e-02,  2.5890e+00, -3.2699e-01],\n",
      "        [ 1.0025e+00,  3.5403e-02,  9.4024e+00,  7.8580e-02],\n",
      "        [ 1.0153e+00, -1.1709e-01,  6.5032e+00, -1.4717e+00],\n",
      "        [ 9.9944e-01, -5.0965e-02,  6.6611e+00,  2.6347e+00],\n",
      "        [ 1.0032e+00, -3.5798e-02,  7.1484e+00, -8.6201e-01],\n",
      "        [ 1.0163e+00,  1.4144e-02,  1.6143e+00,  8.8878e-02],\n",
      "        [ 1.0027e+00,  1.2442e-02,  8.0081e+00, -8.9576e-01],\n",
      "        [ 9.9749e-01, -1.9110e-01,  8.9519e+00, -3.0526e+00],\n",
      "        [ 1.0121e+00,  6.6298e-02,  6.4713e+00,  1.9428e+00],\n",
      "        [ 1.0068e+00,  8.0103e-02,  7.5167e+00,  3.0626e+00],\n",
      "        [ 1.0173e+00, -3.3992e-02,  1.9945e+00,  1.0919e-02],\n",
      "        [ 1.0042e+00,  7.3841e-03,  8.4547e+00, -1.0662e+00],\n",
      "        [ 1.0158e+00, -2.1503e-02,  3.9775e+00, -3.4620e-01],\n",
      "        [ 1.0102e+00, -5.6275e-02,  2.1071e+00, -2.4635e-01],\n",
      "        [ 1.0102e+00, -1.1673e-01,  6.4456e+00, -4.2077e+00],\n",
      "        [ 9.9876e-01,  1.1287e-01,  7.1998e+00,  6.0675e-01]],\n",
      "       dtype=torch.float64) tensor([[ 0.8000, -0.0439],\n",
      "        [ 0.8000,  0.0693],\n",
      "        [ 0.8000,  0.1975],\n",
      "        [ 0.8000,  0.5774],\n",
      "        [ 0.8000,  0.0427],\n",
      "        [ 0.8000,  0.0486],\n",
      "        [ 0.8000, -0.1114],\n",
      "        [ 0.8000, -0.0254],\n",
      "        [ 0.8000, -0.1851],\n",
      "        [ 0.8000, -0.0370],\n",
      "        [ 0.8000, -0.0192],\n",
      "        [ 0.8000, -0.0275],\n",
      "        [ 0.8000,  0.0937],\n",
      "        [ 0.8000,  0.0948],\n",
      "        [ 0.8000, -0.2924],\n",
      "        [ 0.8000, -0.0681],\n",
      "        [ 0.8000, -0.0447],\n",
      "        [ 0.8000, -0.0392],\n",
      "        [ 0.8000, -0.4009],\n",
      "        [ 0.8000,  0.0790],\n",
      "        [ 0.8000, -0.0270],\n",
      "        [ 0.8000,  0.7568],\n",
      "        [ 0.8000,  1.2275],\n",
      "        [ 0.5700, -0.0952],\n",
      "        [ 0.8000, -0.4648],\n",
      "        [ 0.8000, -0.0829],\n",
      "        [ 0.8000, -0.0935],\n",
      "        [ 0.8000,  1.0782],\n",
      "        [ 0.8000, -0.5708],\n",
      "        [ 0.8000, -0.1664],\n",
      "        [ 0.8000, -0.1036],\n",
      "        [ 0.8000, -0.0722],\n",
      "        [ 0.8000, -0.0649],\n",
      "        [ 0.8000, -0.0859],\n",
      "        [ 0.8000, -0.1014],\n",
      "        [ 0.8000, -0.0851],\n",
      "        [ 0.8000, -0.0692],\n",
      "        [ 0.8000,  0.0086],\n",
      "        [ 0.8000, -0.0786],\n",
      "        [ 0.8000, -0.0152],\n",
      "        [ 0.8000, -0.0697],\n",
      "        [ 0.8000, -0.1136],\n",
      "        [ 0.8000,  0.0587],\n",
      "        [ 0.8000, -0.0125],\n",
      "        [ 0.8000, -0.0184],\n",
      "        [ 0.8000,  1.0711],\n",
      "        [ 0.8000, -0.3171],\n",
      "        [ 0.8000, -0.1778],\n",
      "        [ 0.8000, -0.0856],\n",
      "        [ 0.8000,  0.0750],\n",
      "        [ 0.8000, -0.1415],\n",
      "        [ 0.8000, -0.1243],\n",
      "        [ 0.8000, -0.0537],\n",
      "        [ 0.8000,  0.0346],\n",
      "        [ 0.8000,  0.0465],\n",
      "        [ 0.8000, -0.3858],\n",
      "        [ 0.8000,  0.0915],\n",
      "        [ 0.8000, -0.1081],\n",
      "        [ 0.8000, -0.0630],\n",
      "        [ 0.8000, -0.0127],\n",
      "        [ 0.8000, -0.0301],\n",
      "        [ 0.8000, -0.0855],\n",
      "        [ 0.8000,  0.1633],\n",
      "        [ 0.8000,  0.1646]], dtype=torch.float64)\n"
     ]
    }
   ],
   "source": [
    "# dataloader\n",
    "from torch.utils.data import DataLoader\n",
    "\n",
    "train_loader = DataLoader(train_dataset, batch_size=64, shuffle=True)\n",
    "val_loader = DataLoader(val_dataset, batch_size=64, shuffle=False)\n",
    "# test dataloader\n",
    "lidar, non_lidar, actions = next(iter(train_loader))\n",
    "print(f\"Non lidar shape: {non_lidar.shape}\")\n",
    "print(f\"Lidar shape: {lidar.shape}\")\n",
    "# print size dataloader\n",
    "print(f\"Train loader size: {len(train_loader)}\")\n",
    "print(f\"Val loader size: {len(val_loader)}\")\n",
    "print(lidar, non_lidar, actions)"
   ]
  },
  {
   "cell_type": "code",
   "execution_count": 8,
   "metadata": {},
   "outputs": [
    {
     "data": {
      "text/plain": [
       "tensor([[1.2042, 1.2010, 1.2006,  ..., 0.7230, 0.7289, 0.7393],\n",
       "        [5.0000, 5.0000, 5.0000,  ..., 1.8720, 1.8806, 1.8984],\n",
       "        [4.3470, 4.5073, 4.7787,  ..., 0.6869, 0.7010, 0.8091],\n",
       "        ...,\n",
       "        [5.0000, 5.0000, 5.0000,  ..., 5.0000, 5.0000, 5.0000],\n",
       "        [1.0508, 1.0547, 1.0599,  ..., 5.0000, 5.0000, 5.0000],\n",
       "        [0.6421, 0.6455, 0.6493,  ..., 0.9102, 0.9169, 0.9384]],\n",
       "       dtype=torch.float64)"
      ]
     },
     "execution_count": 8,
     "metadata": {},
     "output_type": "execute_result"
    }
   ],
   "source": [
    "lidar"
   ]
  },
  {
   "cell_type": "code",
   "execution_count": 9,
   "metadata": {},
   "outputs": [
    {
     "data": {
      "text/plain": [
       "tensor([[ 1.0088e+00, -3.5703e-02,  5.9112e+00, -5.7129e-01],\n",
       "        [ 9.8328e-01,  2.6551e-01,  3.7076e+00,  6.4741e+00],\n",
       "        [ 9.6028e-01,  2.8164e-01,  3.5545e+00,  4.2327e+00],\n",
       "        [ 9.8061e-01,  2.1264e-01,  5.1315e+00, -5.5955e+00],\n",
       "        [ 1.0209e+00,  3.8610e-02,  5.1080e+00, -4.9602e-01],\n",
       "        [ 1.0104e+00,  2.7528e-02,  6.7788e+00, -2.6475e-01],\n",
       "        [ 1.0004e+00, -5.7744e-02,  1.4542e+00, -1.6251e-01],\n",
       "        [ 1.0119e+00, -2.5100e-02,  3.0506e+00, -2.9924e-01],\n",
       "        [ 1.0069e+00, -1.2296e-01,  3.9403e+00, -1.7460e+00],\n",
       "        [ 1.0090e+00, -3.6122e-02,  7.7484e+00,  1.3032e-01],\n",
       "        [ 1.0080e+00, -1.3317e-02,  7.5919e+00, -4.8836e-01],\n",
       "        [ 1.0002e+00, -1.4965e-02,  8.9064e+00, -5.4051e-01],\n",
       "        [ 9.9914e-01,  5.2376e-02,  3.4837e+00,  4.0771e-01],\n",
       "        [ 1.0133e+00,  5.2077e-02,  6.4892e+00, -3.1805e+00],\n",
       "        [ 9.9290e-01, -1.7476e-01,  9.1501e+00, -2.2815e+00],\n",
       "        [ 1.0221e+00, -3.7916e-02,  6.0536e+00,  2.6381e+00],\n",
       "        [ 1.0132e+00,  2.1554e-02,  4.8650e+00, -5.9620e+00],\n",
       "        [ 1.0208e+00, -3.2034e-02,  2.1569e+00, -2.0510e-01],\n",
       "        [ 9.8783e-01, -2.3095e-01,  9.3185e+00, -2.5543e+00],\n",
       "        [ 1.0163e+00,  2.6597e-02,  3.0641e+00,  2.7689e-01],\n",
       "        [ 1.0194e+00, -1.8569e-02,  3.5326e+00, -3.1030e-01],\n",
       "        [ 9.2812e-01,  4.0370e-01,  7.2079e+00,  2.7026e+00],\n",
       "        [ 5.8466e-01,  8.2894e-01,  9.0175e+00,  1.8493e+00],\n",
       "        [ 1.0051e+00, -8.1195e-02,  9.8367e+00, -1.1837e+00],\n",
       "        [ 9.6387e-01, -2.6652e-01,  9.3919e+00,  4.0829e-01],\n",
       "        [ 1.0221e+00, -4.9108e-02,  1.3494e+00, -1.3721e-01],\n",
       "        [ 1.0143e+00, -4.1944e-02,  4.1394e+00, -1.8567e+00],\n",
       "        [ 8.4511e-01,  5.5641e-01,  3.5923e+00,  4.4006e+00],\n",
       "        [ 9.7460e-01, -3.1570e-01,  9.0821e+00, -3.3254e+00],\n",
       "        [ 1.0116e+00, -9.8198e-02,  9.4192e+00, -1.0825e+00],\n",
       "        [ 1.0092e+00, -5.9584e-02,  9.4674e+00, -5.9486e-01],\n",
       "        [ 1.0042e+00, -6.0068e-02,  3.5974e+00, -5.4265e-01],\n",
       "        [ 1.0087e+00,  2.3718e-02,  5.5580e+00,  5.1233e-01],\n",
       "        [ 1.0123e+00, -5.2790e-02,  7.8857e+00,  1.9171e+00],\n",
       "        [ 1.0190e+00, -6.4401e-02,  1.0429e+00, -7.3801e-02],\n",
       "        [ 1.0001e+00, -7.9665e-02,  6.7466e+00, -1.8980e+00],\n",
       "        [ 1.0006e+00, -7.2730e-02,  5.6946e+00,  5.1969e-01],\n",
       "        [ 1.0172e+00, -1.6333e-02,  7.6857e+00,  3.2575e-01],\n",
       "        [ 1.0231e+00, -5.5299e-02,  1.6526e+00, -1.6465e-01],\n",
       "        [ 1.0127e+00, -1.6862e-02,  2.7302e+00, -2.3087e-01],\n",
       "        [ 1.0081e+00, -4.3628e-02,  8.9231e+00, -1.0227e+00],\n",
       "        [ 1.0132e+00, -9.3155e-02,  6.7536e+00, -6.1629e-02],\n",
       "        [ 1.0033e+00,  2.3447e-02,  4.1229e+00, -2.2909e-01],\n",
       "        [ 1.0080e+00, -1.3892e-02,  3.0989e+00, -2.6336e-01],\n",
       "        [ 1.0109e+00, -1.9094e-02,  2.3763e+00, -2.3509e-01],\n",
       "        [ 8.7819e-01,  4.9778e-01,  4.5018e+00,  5.4920e+00],\n",
       "        [ 9.9255e-01, -1.6281e-01,  7.8612e+00,  4.1572e+00],\n",
       "        [ 1.0083e+00, -7.1334e-02,  7.6016e+00,  9.7430e-01],\n",
       "        [ 1.0005e+00, -5.3560e-02,  2.5890e+00, -3.2699e-01],\n",
       "        [ 1.0025e+00,  3.5403e-02,  9.4024e+00,  7.8580e-02],\n",
       "        [ 1.0153e+00, -1.1709e-01,  6.5032e+00, -1.4717e+00],\n",
       "        [ 9.9944e-01, -5.0965e-02,  6.6611e+00,  2.6347e+00],\n",
       "        [ 1.0032e+00, -3.5798e-02,  7.1484e+00, -8.6201e-01],\n",
       "        [ 1.0163e+00,  1.4144e-02,  1.6143e+00,  8.8878e-02],\n",
       "        [ 1.0027e+00,  1.2442e-02,  8.0081e+00, -8.9576e-01],\n",
       "        [ 9.9749e-01, -1.9110e-01,  8.9519e+00, -3.0526e+00],\n",
       "        [ 1.0121e+00,  6.6298e-02,  6.4713e+00,  1.9428e+00],\n",
       "        [ 1.0068e+00,  8.0103e-02,  7.5167e+00,  3.0626e+00],\n",
       "        [ 1.0173e+00, -3.3992e-02,  1.9945e+00,  1.0919e-02],\n",
       "        [ 1.0042e+00,  7.3841e-03,  8.4547e+00, -1.0662e+00],\n",
       "        [ 1.0158e+00, -2.1503e-02,  3.9775e+00, -3.4620e-01],\n",
       "        [ 1.0102e+00, -5.6275e-02,  2.1071e+00, -2.4635e-01],\n",
       "        [ 1.0102e+00, -1.1673e-01,  6.4456e+00, -4.2077e+00],\n",
       "        [ 9.9876e-01,  1.1287e-01,  7.1998e+00,  6.0675e-01]],\n",
       "       dtype=torch.float64)"
      ]
     },
     "execution_count": 9,
     "metadata": {},
     "output_type": "execute_result"
    }
   ],
   "source": [
    "non_lidar"
   ]
  },
  {
   "cell_type": "code",
   "execution_count": 10,
   "metadata": {},
   "outputs": [
    {
     "data": {
      "text/plain": [
       "tensor([[ 0.8000, -0.0439],\n",
       "        [ 0.8000,  0.0693],\n",
       "        [ 0.8000,  0.1975],\n",
       "        [ 0.8000,  0.5774],\n",
       "        [ 0.8000,  0.0427],\n",
       "        [ 0.8000,  0.0486],\n",
       "        [ 0.8000, -0.1114],\n",
       "        [ 0.8000, -0.0254],\n",
       "        [ 0.8000, -0.1851],\n",
       "        [ 0.8000, -0.0370],\n",
       "        [ 0.8000, -0.0192],\n",
       "        [ 0.8000, -0.0275],\n",
       "        [ 0.8000,  0.0937],\n",
       "        [ 0.8000,  0.0948],\n",
       "        [ 0.8000, -0.2924],\n",
       "        [ 0.8000, -0.0681],\n",
       "        [ 0.8000, -0.0447],\n",
       "        [ 0.8000, -0.0392],\n",
       "        [ 0.8000, -0.4009],\n",
       "        [ 0.8000,  0.0790],\n",
       "        [ 0.8000, -0.0270],\n",
       "        [ 0.8000,  0.7568],\n",
       "        [ 0.8000,  1.2275],\n",
       "        [ 0.5700, -0.0952],\n",
       "        [ 0.8000, -0.4648],\n",
       "        [ 0.8000, -0.0829],\n",
       "        [ 0.8000, -0.0935],\n",
       "        [ 0.8000,  1.0782],\n",
       "        [ 0.8000, -0.5708],\n",
       "        [ 0.8000, -0.1664],\n",
       "        [ 0.8000, -0.1036],\n",
       "        [ 0.8000, -0.0722],\n",
       "        [ 0.8000, -0.0649],\n",
       "        [ 0.8000, -0.0859],\n",
       "        [ 0.8000, -0.1014],\n",
       "        [ 0.8000, -0.0851],\n",
       "        [ 0.8000, -0.0692],\n",
       "        [ 0.8000,  0.0086],\n",
       "        [ 0.8000, -0.0786],\n",
       "        [ 0.8000, -0.0152],\n",
       "        [ 0.8000, -0.0697],\n",
       "        [ 0.8000, -0.1136],\n",
       "        [ 0.8000,  0.0587],\n",
       "        [ 0.8000, -0.0125],\n",
       "        [ 0.8000, -0.0184],\n",
       "        [ 0.8000,  1.0711],\n",
       "        [ 0.8000, -0.3171],\n",
       "        [ 0.8000, -0.1778],\n",
       "        [ 0.8000, -0.0856],\n",
       "        [ 0.8000,  0.0750],\n",
       "        [ 0.8000, -0.1415],\n",
       "        [ 0.8000, -0.1243],\n",
       "        [ 0.8000, -0.0537],\n",
       "        [ 0.8000,  0.0346],\n",
       "        [ 0.8000,  0.0465],\n",
       "        [ 0.8000, -0.3858],\n",
       "        [ 0.8000,  0.0915],\n",
       "        [ 0.8000, -0.1081],\n",
       "        [ 0.8000, -0.0630],\n",
       "        [ 0.8000, -0.0127],\n",
       "        [ 0.8000, -0.0301],\n",
       "        [ 0.8000, -0.0855],\n",
       "        [ 0.8000,  0.1633],\n",
       "        [ 0.8000,  0.1646]], dtype=torch.float64)"
      ]
     },
     "execution_count": 10,
     "metadata": {},
     "output_type": "execute_result"
    }
   ],
   "source": [
    "actions"
   ]
  },
  {
   "cell_type": "code",
   "execution_count": 11,
   "metadata": {},
   "outputs": [],
   "source": [
    "import torch\n",
    "import torch.nn as nn\n",
    "import torch.optim as optim\n",
    "import torch.nn.functional as F\n",
    "\n",
    "class CNNModel(nn.Module):\n",
    "    def __init__(self, num_lidar_features, num_non_lidar_features, num_actions, nframes=1):\n",
    "        super(CNNModel, self).__init__()\n",
    "        self.act_fea_cv1 = nn.Conv1d(\n",
    "            in_channels=nframes, out_channels=32, kernel_size=5, stride=2, padding=6, padding_mode='circular'\n",
    "        )\n",
    "        self.act_fea_cv2 = nn.Conv1d(\n",
    "            in_channels=32, out_channels=32, kernel_size=3, stride=2, padding=1\n",
    "        )\n",
    "\n",
    "        with torch.no_grad():\n",
    "            sample_input = torch.randn(1, nframes, num_lidar_features)\n",
    "            sample_output = self.act_fea_cv1(sample_input)\n",
    "            sample_output = self.act_fea_cv2(sample_output)\n",
    "            conv_output_size = sample_output.view(1, -1).shape[1]\n",
    "\n",
    "        # Calculate the output size of the CNN\n",
    "        self.fc1 = nn.Linear(conv_output_size, 64)\n",
    "        self.fc2 = nn.Linear(64 + num_non_lidar_features * nframes, 64)\n",
    "        self.fc3 = nn.Linear(64, num_actions)\n",
    "\n",
    "        torch.nn.init.xavier_uniform_(self.fc1.weight)\n",
    "        torch.nn.init.xavier_uniform_(self.fc2.weight)\n",
    "\n",
    "    def forward(self, lidar, non_lidar):\n",
    "        feat = F.relu(self.act_fea_cv1(lidar))\n",
    "        feat = F.relu(self.act_fea_cv2(feat))\n",
    "        feat = feat.view(feat.shape[0], -1)\n",
    "        feat = F.relu(self.fc1(feat))\n",
    "        # feat = torch.cat((feat, non_lidar.view(non_lidar.shape[0], -1)), dim=-1)\n",
    "        feat = torch.cat((feat, non_lidar.flatten(start_dim=1)), dim=-1)\n",
    "        feat = F.relu(self.fc2(feat))\n",
    "        feat = self.fc3(feat)\n",
    "        return feat"
   ]
  },
  {
   "cell_type": "code",
   "execution_count": 12,
   "metadata": {},
   "outputs": [],
   "source": [
    "# make a CustomLoss prioritizing the angular velocity\n",
    "class CustomLoss(nn.Module):\n",
    "    def __init__(self):\n",
    "        super(CustomLoss, self).__init__()\n",
    "\n",
    "    def forward(self, pred, target):\n",
    "        # increase the loss of the second element of the prediction\n",
    "        # this is the angular velocity\n",
    "        loss = (pred - target) ** 2\n",
    "        loss[:, 1] *= 2\n",
    "        return loss.mean()"
   ]
  },
  {
   "cell_type": "code",
   "execution_count": 13,
   "metadata": {},
   "outputs": [
    {
     "name": "stdout",
     "output_type": "stream",
     "text": [
      "cuda\n"
     ]
    }
   ],
   "source": [
    "# Initialize the model\n",
    "num_lidar_features = len(train_dataset.lidar_cols)\n",
    "num_non_lidar_features = len(train_dataset.non_lidar_cols)\n",
    "num_actions = len(train_dataset.actions_cols)\n",
    "model = CNNModel(num_lidar_features, num_non_lidar_features, num_actions)\n",
    "\n",
    "# Define the loss function and optimizer\n",
    "loss_fn = nn.MSELoss()\n",
    "optimizer = optim.Adam(model.parameters(), lr=1e-5)\n",
    "\n",
    "# Move the model and loss function to the GPU if available\n",
    "device = torch.device('cuda' if torch.cuda.is_available() else 'cpu')\n",
    "model = model.to(device)\n",
    "loss_fn = loss_fn.to(device)\n",
    "print(device)"
   ]
  },
  {
   "cell_type": "code",
   "execution_count": 14,
   "metadata": {},
   "outputs": [],
   "source": [
    "from tqdm import tqdm\n",
    "\n",
    "def train_model(model, train_loader, loss_fn, optimizer):\n",
    "    model.train()\n",
    "\n",
    "    losses = []\n",
    "    for lidar, non_lidar, actions in tqdm(train_loader):\n",
    "        # Move the data to the device that is used\n",
    "        lidar = lidar.to(device).unsqueeze(1)\n",
    "        non_lidar = non_lidar.to(device).unsqueeze(1)\n",
    "        actions = actions.to(device)\n",
    "\n",
    "        # Forward pass\n",
    "        actions_pred = model(lidar.float(), non_lidar.float())\n",
    "        loss = loss_fn(actions_pred, actions.float())\n",
    "\n",
    "        # Backward pass\n",
    "        optimizer.zero_grad()\n",
    "        loss.backward()\n",
    "        optimizer.step()\n",
    "\n",
    "        # Save the loss\n",
    "        losses.append(loss.item())\n",
    "\n",
    "    # return the average loss for this epoch\n",
    "    return sum(losses)/len(losses)"
   ]
  },
  {
   "cell_type": "code",
   "execution_count": 15,
   "metadata": {},
   "outputs": [],
   "source": [
    "def test_model(model, test_loader, loss_fn):\n",
    "    model.eval()\n",
    "\n",
    "    losses = []\n",
    "    for lidar, non_lidar, actions in tqdm(test_loader):\n",
    "        # Move the data to the device that is used\n",
    "        lidar = lidar.to(device).unsqueeze(1)\n",
    "        non_lidar = non_lidar.to(device).unsqueeze(1)\n",
    "        actions = actions.to(device)\n",
    "\n",
    "        # Forward pass\n",
    "        actions_pred = model(lidar.float(), non_lidar.float())\n",
    "        loss = loss_fn(actions_pred, actions.float())\n",
    "\n",
    "        # Save the loss\n",
    "        losses.append(loss.item())\n",
    "\n",
    "    # return the average loss for this epoch\n",
    "    return sum(losses)/len(losses)"
   ]
  },
  {
   "cell_type": "code",
   "execution_count": 16,
   "metadata": {},
   "outputs": [
    {
     "name": "stderr",
     "output_type": "stream",
     "text": [
      "100%|██████████| 1350/1350 [00:07<00:00, 192.54it/s]"
     ]
    },
    {
     "name": "stdout",
     "output_type": "stream",
     "text": [
      "Random val loss: 0.5138106651769744\n"
     ]
    },
    {
     "name": "stderr",
     "output_type": "stream",
     "text": [
      "\n",
      "100%|██████████| 5573/5573 [00:35<00:00, 157.48it/s]\n",
      "100%|██████████| 1350/1350 [00:04<00:00, 334.13it/s]"
     ]
    },
    {
     "name": "stdout",
     "output_type": "stream",
     "text": [
      "Epoch 1/50 | Train Loss: 0.0387804846445768 | Val Loss: 0.017080062226493654\n"
     ]
    },
    {
     "name": "stderr",
     "output_type": "stream",
     "text": [
      "\n",
      "100%|██████████| 5573/5573 [00:21<00:00, 259.19it/s]\n",
      "100%|██████████| 1350/1350 [00:01<00:00, 762.89it/s]"
     ]
    },
    {
     "name": "stdout",
     "output_type": "stream",
     "text": [
      "Epoch 2/50 | Train Loss: 0.02285634203275531 | Val Loss: 0.013792185841798697\n"
     ]
    },
    {
     "name": "stderr",
     "output_type": "stream",
     "text": [
      "\n",
      "100%|██████████| 5573/5573 [00:47<00:00, 117.17it/s]\n",
      "100%|██████████| 1350/1350 [00:09<00:00, 135.51it/s]"
     ]
    },
    {
     "name": "stdout",
     "output_type": "stream",
     "text": [
      "Epoch 3/50 | Train Loss: 0.018761545282618287 | Val Loss: 0.011999342738892194\n"
     ]
    },
    {
     "name": "stderr",
     "output_type": "stream",
     "text": [
      "\n",
      "100%|██████████| 5573/5573 [00:23<00:00, 241.95it/s]\n",
      "100%|██████████| 1350/1350 [00:01<00:00, 731.17it/s]"
     ]
    },
    {
     "name": "stdout",
     "output_type": "stream",
     "text": [
      "Epoch 4/50 | Train Loss: 0.016143891194418523 | Val Loss: 0.010430850670263343\n"
     ]
    },
    {
     "name": "stderr",
     "output_type": "stream",
     "text": [
      "\n",
      "100%|██████████| 5573/5573 [00:24<00:00, 230.83it/s]\n",
      "100%|██████████| 1350/1350 [00:03<00:00, 358.43it/s]"
     ]
    },
    {
     "name": "stdout",
     "output_type": "stream",
     "text": [
      "Epoch 5/50 | Train Loss: 0.014307433413308219 | Val Loss: 0.009382476500026382\n"
     ]
    },
    {
     "name": "stderr",
     "output_type": "stream",
     "text": [
      "\n",
      "100%|██████████| 5573/5573 [00:33<00:00, 164.96it/s]\n",
      "100%|██████████| 1350/1350 [00:01<00:00, 771.71it/s]"
     ]
    },
    {
     "name": "stdout",
     "output_type": "stream",
     "text": [
      "Epoch 6/50 | Train Loss: 0.013011338427568764 | Val Loss: 0.008667857120750274\n"
     ]
    },
    {
     "name": "stderr",
     "output_type": "stream",
     "text": [
      "\n",
      "100%|██████████| 5573/5573 [00:20<00:00, 268.38it/s]\n",
      "100%|██████████| 1350/1350 [00:01<00:00, 702.42it/s]"
     ]
    },
    {
     "name": "stdout",
     "output_type": "stream",
     "text": [
      "Epoch 7/50 | Train Loss: 0.012065480703682846 | Val Loss: 0.0080758580337257\n"
     ]
    },
    {
     "name": "stderr",
     "output_type": "stream",
     "text": [
      "\n",
      "100%|██████████| 5573/5573 [00:19<00:00, 283.79it/s]\n",
      "100%|██████████| 1350/1350 [00:02<00:00, 651.45it/s]"
     ]
    },
    {
     "name": "stdout",
     "output_type": "stream",
     "text": [
      "Epoch 8/50 | Train Loss: 0.011381997310933478 | Val Loss: 0.007871439822184686\n"
     ]
    },
    {
     "name": "stderr",
     "output_type": "stream",
     "text": [
      "\n",
      "100%|██████████| 5573/5573 [00:20<00:00, 271.07it/s]\n",
      "100%|██████████| 1350/1350 [00:01<00:00, 861.70it/s]"
     ]
    },
    {
     "name": "stdout",
     "output_type": "stream",
     "text": [
      "Epoch 9/50 | Train Loss: 0.010872564355874689 | Val Loss: 0.0075036386478017515\n"
     ]
    },
    {
     "name": "stderr",
     "output_type": "stream",
     "text": [
      "\n",
      "100%|██████████| 5573/5573 [00:19<00:00, 283.25it/s]\n",
      "100%|██████████| 1350/1350 [00:01<00:00, 772.18it/s]"
     ]
    },
    {
     "name": "stdout",
     "output_type": "stream",
     "text": [
      "Epoch 10/50 | Train Loss: 0.010460491435290306 | Val Loss: 0.007437619019423167\n"
     ]
    },
    {
     "name": "stderr",
     "output_type": "stream",
     "text": [
      "\n",
      "100%|██████████| 5573/5573 [00:22<00:00, 247.79it/s]\n",
      "100%|██████████| 1350/1350 [00:01<00:00, 740.27it/s]"
     ]
    },
    {
     "name": "stdout",
     "output_type": "stream",
     "text": [
      "Epoch 11/50 | Train Loss: 0.010123426232540606 | Val Loss: 0.0072810020091775285\n"
     ]
    },
    {
     "name": "stderr",
     "output_type": "stream",
     "text": [
      "\n",
      "100%|██████████| 5573/5573 [00:20<00:00, 274.26it/s]\n",
      "100%|██████████| 1350/1350 [00:01<00:00, 697.16it/s]"
     ]
    },
    {
     "name": "stdout",
     "output_type": "stream",
     "text": [
      "Epoch 12/50 | Train Loss: 0.009843215866413929 | Val Loss: 0.007161839282818147\n"
     ]
    },
    {
     "name": "stderr",
     "output_type": "stream",
     "text": [
      "\n",
      "100%|██████████| 5573/5573 [00:19<00:00, 287.98it/s]\n",
      "100%|██████████| 1350/1350 [00:02<00:00, 560.46it/s]"
     ]
    },
    {
     "name": "stdout",
     "output_type": "stream",
     "text": [
      "Epoch 13/50 | Train Loss: 0.009602690890162184 | Val Loss: 0.006881576156045884\n"
     ]
    },
    {
     "name": "stderr",
     "output_type": "stream",
     "text": [
      "\n",
      "100%|██████████| 5573/5573 [00:21<00:00, 256.37it/s]\n",
      "100%|██████████| 1350/1350 [00:01<00:00, 744.55it/s]"
     ]
    },
    {
     "name": "stdout",
     "output_type": "stream",
     "text": [
      "Epoch 14/50 | Train Loss: 0.009379438248448937 | Val Loss: 0.006859536994220603\n"
     ]
    },
    {
     "name": "stderr",
     "output_type": "stream",
     "text": [
      "\n",
      "100%|██████████| 5573/5573 [00:19<00:00, 288.03it/s]\n",
      "100%|██████████| 1350/1350 [00:02<00:00, 638.44it/s]"
     ]
    },
    {
     "name": "stdout",
     "output_type": "stream",
     "text": [
      "Epoch 15/50 | Train Loss: 0.009184386132817421 | Val Loss: 0.006882030374685268\n"
     ]
    },
    {
     "name": "stderr",
     "output_type": "stream",
     "text": [
      "\n",
      "100%|██████████| 5573/5573 [00:23<00:00, 241.93it/s]\n",
      "100%|██████████| 1350/1350 [00:02<00:00, 606.88it/s]"
     ]
    },
    {
     "name": "stdout",
     "output_type": "stream",
     "text": [
      "Epoch 16/50 | Train Loss: 0.008993755918815943 | Val Loss: 0.006812933875976509\n"
     ]
    },
    {
     "name": "stderr",
     "output_type": "stream",
     "text": [
      "\n",
      "100%|██████████| 5573/5573 [00:26<00:00, 212.17it/s]\n",
      "100%|██████████| 1350/1350 [00:02<00:00, 642.34it/s]"
     ]
    },
    {
     "name": "stdout",
     "output_type": "stream",
     "text": [
      "Epoch 17/50 | Train Loss: 0.008832201669395382 | Val Loss: 0.00683390654817534\n"
     ]
    },
    {
     "name": "stderr",
     "output_type": "stream",
     "text": [
      "\n",
      "100%|██████████| 5573/5573 [00:20<00:00, 277.07it/s]\n",
      "100%|██████████| 1350/1350 [00:01<00:00, 786.16it/s]"
     ]
    },
    {
     "name": "stdout",
     "output_type": "stream",
     "text": [
      "Epoch 18/50 | Train Loss: 0.008685829098362803 | Val Loss: 0.006917421759892561\n"
     ]
    },
    {
     "name": "stderr",
     "output_type": "stream",
     "text": [
      "\n",
      "100%|██████████| 5573/5573 [00:17<00:00, 318.58it/s]\n",
      "100%|██████████| 1350/1350 [00:01<00:00, 789.84it/s]"
     ]
    },
    {
     "name": "stdout",
     "output_type": "stream",
     "text": [
      "Epoch 19/50 | Train Loss: 0.008547832600878665 | Val Loss: 0.006644121091540675\n"
     ]
    },
    {
     "name": "stderr",
     "output_type": "stream",
     "text": [
      "\n",
      "100%|██████████| 5573/5573 [00:17<00:00, 311.99it/s]\n",
      "100%|██████████| 1350/1350 [00:01<00:00, 735.74it/s]"
     ]
    },
    {
     "name": "stdout",
     "output_type": "stream",
     "text": [
      "Epoch 20/50 | Train Loss: 0.008424441207630355 | Val Loss: 0.006666546161201646\n"
     ]
    },
    {
     "name": "stderr",
     "output_type": "stream",
     "text": [
      "\n",
      "100%|██████████| 5573/5573 [00:17<00:00, 326.86it/s]\n",
      "100%|██████████| 1350/1350 [00:01<00:00, 771.70it/s]"
     ]
    },
    {
     "name": "stdout",
     "output_type": "stream",
     "text": [
      "Epoch 21/50 | Train Loss: 0.008286525341532987 | Val Loss: 0.006782489792126903\n"
     ]
    },
    {
     "name": "stderr",
     "output_type": "stream",
     "text": [
      "\n",
      "100%|██████████| 5573/5573 [00:17<00:00, 327.57it/s]\n",
      "100%|██████████| 1350/1350 [00:01<00:00, 754.31it/s]"
     ]
    },
    {
     "name": "stdout",
     "output_type": "stream",
     "text": [
      "Epoch 22/50 | Train Loss: 0.008181004540618925 | Val Loss: 0.006631491503519808\n"
     ]
    },
    {
     "name": "stderr",
     "output_type": "stream",
     "text": [
      "\n",
      "100%|██████████| 5573/5573 [00:16<00:00, 331.02it/s]\n",
      "100%|██████████| 1350/1350 [00:01<00:00, 791.08it/s]"
     ]
    },
    {
     "name": "stdout",
     "output_type": "stream",
     "text": [
      "Epoch 23/50 | Train Loss: 0.008074728711204486 | Val Loss: 0.00664151814963757\n"
     ]
    },
    {
     "name": "stderr",
     "output_type": "stream",
     "text": [
      "\n",
      "100%|██████████| 5573/5573 [00:16<00:00, 348.15it/s]\n",
      "100%|██████████| 1350/1350 [00:01<00:00, 776.62it/s]"
     ]
    },
    {
     "name": "stdout",
     "output_type": "stream",
     "text": [
      "Epoch 24/50 | Train Loss: 0.00796195498232369 | Val Loss: 0.006683722158518827\n"
     ]
    },
    {
     "name": "stderr",
     "output_type": "stream",
     "text": [
      "\n",
      "100%|██████████| 5573/5573 [00:16<00:00, 346.56it/s]\n",
      "100%|██████████| 1350/1350 [00:01<00:00, 761.95it/s]"
     ]
    },
    {
     "name": "stdout",
     "output_type": "stream",
     "text": [
      "Epoch 25/50 | Train Loss: 0.00786638151071852 | Val Loss: 0.006703142836017327\n"
     ]
    },
    {
     "name": "stderr",
     "output_type": "stream",
     "text": [
      "\n"
     ]
    },
    {
     "name": "stdout",
     "output_type": "stream",
     "text": [
      "Early stopping due to no improvement after 3 epochs.\n"
     ]
    }
   ],
   "source": [
    "import sys\n",
    "NUM_EPOCHS = 50\n",
    "\n",
    "random_val_loss = test_model(model, val_loader, loss_fn)\n",
    "print(\"Random val loss:\", random_val_loss)\n",
    "sys.stdout.flush()\n",
    "\n",
    "cnn_train_losses = []\n",
    "cnn_val_losses = []\n",
    "best_val_loss = float('inf')\n",
    "patience = 3\n",
    "no_improve_epochs = 0\n",
    "\n",
    "for epoch in range(NUM_EPOCHS):\n",
    "    train_loss = train_model(model, train_loader, loss_fn, optimizer)\n",
    "    val_loss = test_model(model, val_loader, loss_fn)\n",
    "    cnn_train_losses.append(train_loss)\n",
    "    cnn_val_losses.append(val_loss)\n",
    "    print(f\"Epoch {epoch+1}/{NUM_EPOCHS} | Train Loss: {train_loss} | Val Loss: {val_loss}\")\n",
    "    sys.stdout.flush()\n",
    "\n",
    "    # Early stopping\n",
    "    if val_loss < best_val_loss:\n",
    "        best_val_loss = val_loss\n",
    "        no_improve_epochs = 0\n",
    "    else:\n",
    "        no_improve_epochs += 1\n",
    "        if no_improve_epochs >= patience:\n",
    "            print(\"Early stopping due to no improvement after {} epochs.\".format(patience))\n",
    "            break"
   ]
  },
  {
   "cell_type": "code",
   "execution_count": 17,
   "metadata": {},
   "outputs": [
    {
     "data": {
      "image/png": "[encoded data removed]",
      "text/plain": [
       "<Figure size 640x480 with 1 Axes>"
      ]
     },
     "metadata": {},
     "output_type": "display_data"
    }
   ],
   "source": [
    "# plot the loss\n",
    "import matplotlib.pyplot as plt\n",
    "\n",
    "plt.plot(cnn_train_losses, label='Train Loss')\n",
    "plt.plot(cnn_val_losses, label='Val Loss')\n",
    "plt.xlabel('Epoch')\n",
    "plt.ylabel('Loss')\n",
    "plt.legend()\n",
    "plt.show();"
   ]
  },
  {
   "cell_type": "code",
   "execution_count": 18,
   "metadata": {},
   "outputs": [],
   "source": [
    "# save the model\n",
    "torch.save(model.state_dict(), 'models/cnn_model.pth')"
   ]
  },
  {
   "cell_type": "code",
   "execution_count": 19,
   "metadata": {},
   "outputs": [],
   "source": [
    "def test_model(model, test_loader, loss_fn):\n",
    "    model.eval()\n",
    "\n",
    "    losses = []\n",
    "    for lidar, non_lidar, actions in tqdm(test_loader):\n",
    "        # Move the data to the device that is used\n",
    "        lidar = lidar.to(device).unsqueeze(1)\n",
    "        non_lidar = non_lidar.to(device).unsqueeze(1)\n",
    "        actions = actions.to(device)\n",
    "\n",
    "        # Forward pass\n",
    "        actions_pred = model(lidar.float(), non_lidar.float())\n",
    "        loss = loss_fn(actions_pred, actions.float())\n",
    "\n",
    "        if loss.item() > 0.1:\n",
    "            print(\"---------------------------\")\n",
    "            print(\"Loss:\", loss.item())\n",
    "            print(\"Predicted:\", actions_pred)\n",
    "            print(\"Actual:\", actions)\n",
    "            print(\"Non lidar:\", non_lidar)\n",
    "            continue\n",
    "\n",
    "        # Save the loss\n",
    "        losses.append(loss.item())\n",
    "\n",
    "    # return the average loss for this epoch\n",
    "    return sum(losses)/len(losses)"
   ]
  },
  {
   "cell_type": "code",
   "execution_count": 20,
   "metadata": {},
   "outputs": [
    {
     "name": "stderr",
     "output_type": "stream",
     "text": [
      " 24%|██▎       | 422/1789 [00:00<00:00, 2303.58it/s]"
     ]
    },
    {
     "name": "stdout",
     "output_type": "stream",
     "text": [
      "---------------------------\n",
      "Loss: 0.2144078016281128\n",
      "Predicted: tensor([[0.7366, 0.1176]], grad_fn=<AddmmBackward0>)\n",
      "Actual: tensor([[0.0900, 0.0139]], dtype=torch.float64)\n",
      "Non lidar: tensor([[[0.9975, 0.0734, 9.9962, 0.2351]]], dtype=torch.float64)\n",
      "---------------------------\n",
      "Loss: 0.199073925614357\n",
      "Predicted: tensor([[0.7432, 0.1173]], grad_fn=<AddmmBackward0>)\n",
      "Actual: tensor([[0.1200, 0.0186]], dtype=torch.float64)\n",
      "Non lidar: tensor([[[1.0212, 0.0739, 9.9949, 0.2343]]], dtype=torch.float64)\n",
      "---------------------------\n",
      "Loss: 0.1799062341451645\n",
      "Predicted: tensor([[0.7424, 0.1174]], grad_fn=<AddmmBackward0>)\n",
      "Actual: tensor([[0.1500, 0.0232]], dtype=torch.float64)\n",
      "Non lidar: tensor([[[1.0192, 0.0739, 9.9929, 0.2339]]], dtype=torch.float64)\n",
      "---------------------------\n",
      "Loss: 0.16288241744041443\n",
      "Predicted: tensor([[0.7412, 0.1153]], grad_fn=<AddmmBackward0>)\n",
      "Actual: tensor([[0.1800, 0.0112]], dtype=torch.float64)\n",
      "Non lidar: tensor([[[1.0166, 0.0738, 9.9903, 0.2326]]], dtype=torch.float64)\n",
      "---------------------------\n",
      "Loss: 0.14599967002868652\n",
      "Predicted: tensor([[0.7406, 0.1155]], grad_fn=<AddmmBackward0>)\n",
      "Actual: tensor([[0.2100, 0.0130]], dtype=torch.float64)\n",
      "Non lidar: tensor([[[1.0134, 0.0737, 9.9871, 0.2320]]], dtype=torch.float64)\n",
      "---------------------------\n",
      "Loss: 0.1265416443347931\n",
      "Predicted: tensor([[0.7413, 0.0576]], grad_fn=<AddmmBackward0>)\n",
      "Actual: tensor([[0.2400, 0.0149]], dtype=torch.float64)\n",
      "Non lidar: tensor([[[1.0107, 0.0238, 9.9833, 0.2326]]], dtype=torch.float64)\n",
      "---------------------------\n",
      "Loss: 0.11154171824455261\n",
      "Predicted: tensor([[0.7405, 0.0577]], grad_fn=<AddmmBackward0>)\n",
      "Actual: tensor([[0.2700, 0.0167]], dtype=torch.float64)\n",
      "Non lidar: tensor([[[1.0063, 0.0238, 9.9789, 0.2325]]], dtype=torch.float64)\n"
     ]
    },
    {
     "name": "stderr",
     "output_type": "stream",
     "text": [
      "100%|██████████| 1789/1789 [00:00<00:00, 2780.41it/s]"
     ]
    },
    {
     "name": "stdout",
     "output_type": "stream",
     "text": [
      "---------------------------\n",
      "Loss: 0.18309138715267181\n",
      "Predicted: tensor([[0.7569, 0.2230]], grad_fn=<AddmmBackward0>)\n",
      "Actual: tensor([[0.1800, 0.0403]], dtype=torch.float64)\n",
      "Non lidar: tensor([[[1.0119, 0.1120, 9.9331, 1.0930]]], dtype=torch.float64)\n",
      "---------------------------\n",
      "Loss: 0.16416116058826447\n",
      "Predicted: tensor([[0.7556, 0.2220]], grad_fn=<AddmmBackward0>)\n",
      "Actual: tensor([[0.2100, 0.0470]], dtype=torch.float64)\n",
      "Non lidar: tensor([[[1.0088, 0.1116, 9.9304, 1.0889]]], dtype=torch.float64)\n",
      "---------------------------\n",
      "Loss: 0.14629240334033966\n",
      "Predicted: tensor([[0.7545, 0.2207]], grad_fn=<AddmmBackward0>)\n",
      "Actual: tensor([[0.2400, 0.0537]], dtype=torch.float64)\n",
      "Non lidar: tensor([[[1.0051, 0.1109, 9.9274, 1.0827]]], dtype=torch.float64)\n",
      "---------------------------\n",
      "Loss: 0.12980231642723083\n",
      "Predicted: tensor([[0.7552, 0.2161]], grad_fn=<AddmmBackward0>)\n",
      "Actual: tensor([[0.2700, 0.0605]], dtype=torch.float64)\n",
      "Non lidar: tensor([[[1.0009, 0.1103, 9.9237, 1.0763]]], dtype=torch.float64)\n",
      "---------------------------\n",
      "Loss: 0.10989125818014145\n",
      "Predicted: tensor([[0.7461, 0.2112]], grad_fn=<AddmmBackward0>)\n",
      "Actual: tensor([[0.3000, 0.0672]], dtype=torch.float64)\n",
      "Non lidar: tensor([[[0.9960, 0.1094, 9.9197, 1.0677]]], dtype=torch.float64)\n",
      "Final val loss: 0.003770924425007305\n"
     ]
    },
    {
     "name": "stderr",
     "output_type": "stream",
     "text": [
      "\n"
     ]
    }
   ],
   "source": [
    "# load file and check MSELoss\n",
    "model = CNNModel(num_lidar_features, num_non_lidar_features, num_actions)\n",
    "model.load_state_dict(torch.load('models/cnn_model.pth', map_location=torch.device('cpu')))\n",
    "model.eval()\n",
    "device = 'cpu'\n",
    "\n",
    "# take world idx 0 as example\n",
    "dataset = KULBarnDataset(df[df['world_idx'] == 0], \"val\")\n",
    "loader = DataLoader(dataset, batch_size=1, shuffle=False)\n",
    "\n",
    "final_val_loss = test_model(model, loader, loss_fn)\n",
    "print(\"Final val loss:\", final_val_loss)"
   ]
  },
  {
   "cell_type": "code",
   "execution_count": 21,
   "metadata": {},
   "outputs": [],
   "source": [
    "import math\n",
    "import torch\n",
    "import torch.nn as nn\n",
    "import torch.nn.functional as F\n",
    "\n",
    "\n",
    "class MultiHeadAttention(nn.Module):\n",
    "    def __init__(\n",
    "            self,\n",
    "            input_dim,\n",
    "            num_heads,\n",
    "            dropout=0.0,\n",
    "            bias=False,\n",
    "            encoder_decoder_attention=False,\n",
    "            causal=False\n",
    "    ):\n",
    "        super().__init__()\n",
    "        self.input_dim = input_dim\n",
    "        self.num_heads = num_heads\n",
    "        self.dropout = dropout\n",
    "        self.head_dim = input_dim // num_heads\n",
    "        self.encoder_decoder_attention = encoder_decoder_attention\n",
    "        self.causal = causal\n",
    "        self.k_proj = nn.Linear(input_dim, input_dim, bias=bias)\n",
    "        self.v_proj = nn.Linear(input_dim, input_dim, bias=bias)\n",
    "        self.q_proj = nn.Linear(input_dim, input_dim, bias=bias)\n",
    "        self.out_proj = nn.Linear(input_dim, input_dim, bias=bias)\n",
    "\n",
    "    def transpose_for_scores(self, x):\n",
    "        new_x_shape = x.size()[:-1] + (self.num_heads, self.head_dim,)\n",
    "        x = x.view(*new_x_shape)\n",
    "        return x.permute(0, 2, 1, 3)\n",
    "\n",
    "    def multi_head_scaled_dot_product(self,\n",
    "                                      query: torch.Tensor,\n",
    "                                      key: torch.Tensor,\n",
    "                                      value: torch.Tensor,\n",
    "                                      attention_mask: torch.BoolTensor):\n",
    "        attn_weights = torch.matmul(query, key.transpose(-1, -2) / math.sqrt(self.input_dim))\n",
    "        if attention_mask is not None:\n",
    "            if self.causal:\n",
    "                attn_weights = attn_weights.masked_fill(attention_mask.unsqueeze(0).unsqueeze(1), float(\"-inf\"))\n",
    "            else:\n",
    "                attn_weights = attn_weights.masked_fill(attention_mask.unsqueeze(1).unsqueeze(2), float(\"-inf\"))\n",
    "        attn_weights = F.softmax(attn_weights, dim=-1)\n",
    "        attn_probs = F.dropout(attn_weights, p=self.dropout, training=self.training)\n",
    "        attn_output = torch.matmul(attn_probs, value)\n",
    "        attn_output = attn_output.permute(0, 2, 1, 3).contiguous()\n",
    "        concat_attn_output_shape = attn_output.size()[:-2] + (self.input_dim,)\n",
    "        attn_output = attn_output.view(*concat_attn_output_shape)\n",
    "        attn_output = self.out_proj(attn_output)\n",
    "        return attn_output, attn_weights\n",
    "\n",
    "    def forward(\n",
    "            self,\n",
    "            query: torch.Tensor,\n",
    "            key: torch.Tensor,\n",
    "            attention_mask: torch.BoolTensor):\n",
    "        q = self.q_proj(query)\n",
    "        if self.encoder_decoder_attention:\n",
    "            k = self.k_proj(key)\n",
    "            v = self.v_proj(key)\n",
    "        else:\n",
    "            k = self.k_proj(query)\n",
    "            v = self.v_proj(query)\n",
    "        q = self.transpose_for_scores(q)\n",
    "        k = self.transpose_for_scores(k)\n",
    "        v = self.transpose_for_scores(v)\n",
    "\n",
    "        attn_output, attn_weights = self.multi_head_scaled_dot_product(q, k, v, attention_mask)\n",
    "        return attn_output, attn_weights\n",
    "\n",
    "\n",
    "class PositionWiseFeedForward(nn.Module):\n",
    "\n",
    "    def __init__(self, input_dim: int, d_ff: int, dropout: float = 0.1):\n",
    "        super(PositionWiseFeedForward, self).__init__()\n",
    "\n",
    "        self.activation = nn.ReLU()\n",
    "        self.w_1 = nn.Linear(input_dim, d_ff)\n",
    "        self.w_2 = nn.Linear(d_ff, input_dim)\n",
    "        self.dropout = dropout\n",
    "\n",
    "    def forward(self, x):\n",
    "        residual = x\n",
    "        x = self.activation(self.w_1(x))\n",
    "        x = F.dropout(x, p=self.dropout, training=self.training)\n",
    "        x = self.w_2(x)\n",
    "        x = F.dropout(x, p=self.dropout, training=self.training)\n",
    "\n",
    "        return x + residual\n",
    "\n",
    "\n",
    "class EmbeddingLidar(nn.Module):\n",
    "\n",
    "    def __init__(self, config):\n",
    "        super().__init__()\n",
    "        self.len_lidar = config.lidar_dim\n",
    "        self.num_patch = config.num_patch\n",
    "        self.dim_patch = self.len_lidar // self.num_patch\n",
    "        self.model_dim = config.model_dim\n",
    "        self.dropout = config.dropout\n",
    "        self.pos_embed = nn.Parameter(torch.randn(self.num_patch, self.model_dim))\n",
    "\n",
    "        self.linear = nn.Linear(self.dim_patch, self.model_dim)\n",
    "\n",
    "    def forward(self, inputs):\n",
    "        x = inputs.view([-1, self.num_patch, self.dim_patch])\n",
    "        x = self.linear(x)\n",
    "        x = x + self.pos_embed\n",
    "        x = F.dropout(x, p=self.dropout, training=self.training)\n",
    "        return x\n",
    "\n",
    "\n",
    "class EncoderLayer(nn.Module):\n",
    "\n",
    "    def __init__(self, config):\n",
    "        super().__init__()\n",
    "        self.input_dim = config.input_dim\n",
    "        self.ffn_dim = config.ffn_dim\n",
    "        self.self_attn = MultiHeadAttention(\n",
    "            input_dim=self.input_dim,\n",
    "            num_heads=config.attention_heads,\n",
    "            dropout=config.attention_dropout)\n",
    "        self.self_attn_layer_norm = nn.LayerNorm(self.input_dim)\n",
    "        self.dropout = config.dropout\n",
    "        self.activation_fn = nn.ReLU()\n",
    "        self.PositionWiseFeedForward = PositionWiseFeedForward(self.input_dim, self.ffn_dim, config.dropout)\n",
    "        self.final_layer_norm = nn.LayerNorm(self.input_dim)\n",
    "\n",
    "    def forward(self, x, encoder_padding_mask):\n",
    "        residual = x\n",
    "        x, attn_weights = self.self_attn(query=x, key=x, attention_mask=encoder_padding_mask)\n",
    "        x = F.dropout(x, p=self.dropout, training=self.training)\n",
    "        x = residual + x\n",
    "        x = self.self_attn_layer_norm(x)\n",
    "        x = self.PositionWiseFeedForward(x)\n",
    "        x = self.final_layer_norm(x)\n",
    "        return x, attn_weights\n",
    "\n",
    "\n",
    "class Encoder(nn.Module):\n",
    "\n",
    "    def __init__(self, config):\n",
    "        super().__init__()\n",
    "        self.dropout = config.dropout\n",
    "\n",
    "        self.embedding = EmbeddingLidar(config)\n",
    "\n",
    "        self.layers = nn.ModuleList([EncoderLayer(config) for _ in range(config.encoder_layers)])\n",
    "\n",
    "    def forward(self, inputs, attention_mask=None):\n",
    "        x = self.embedding(inputs)\n",
    "        self_attn_scores = []\n",
    "        for encoder_layer in self.layers:\n",
    "            x, attn = encoder_layer(x, attention_mask)\n",
    "            self_attn_scores.append(attn.detach())\n",
    "\n",
    "        return x, self_attn_scores\n",
    "\n",
    "\n",
    "class DecoderLayer(nn.Module):\n",
    "\n",
    "    def __init__(self, config):\n",
    "        super().__init__()\n",
    "        self.input_dim = config.input_dim\n",
    "        self.ffn_dim = config.ffn_dim\n",
    "        self.dropout = config.dropout\n",
    "        self.self_attn_layer_norm = nn.LayerNorm(self.input_dim)\n",
    "        self.encoder_attn = MultiHeadAttention(\n",
    "            input_dim=self.input_dim,\n",
    "            num_heads=config.attention_heads,\n",
    "            dropout=config.attention_dropout,\n",
    "            encoder_decoder_attention=True,\n",
    "        )\n",
    "        self.encoder_attn_layer_norm = nn.LayerNorm(self.input_dim)\n",
    "        self.PositionWiseFeedForward = PositionWiseFeedForward(self.input_dim, self.ffn_dim, config.dropout)\n",
    "        self.final_layer_norm = nn.LayerNorm(self.input_dim)\n",
    "\n",
    "    def forward(\n",
    "            self,\n",
    "            x,\n",
    "            encoder_hidden_states,\n",
    "            encoder_attention_mask=None,\n",
    "    ):\n",
    "        residual = x\n",
    "        x, cross_attn_weights = self.encoder_attn(\n",
    "            query=x,\n",
    "            key=encoder_hidden_states,\n",
    "            attention_mask=encoder_attention_mask,\n",
    "        )\n",
    "        x = F.dropout(x, p=self.dropout, training=self.training)\n",
    "        x = residual + x\n",
    "        x = self.encoder_attn_layer_norm(x)\n",
    "        x = self.PositionWiseFeedForward(x)\n",
    "        x = self.final_layer_norm(x)\n",
    "\n",
    "        return (\n",
    "            x,\n",
    "            cross_attn_weights,\n",
    "        )\n",
    "    \n",
    "\n",
    "class Decoder(nn.Module):\n",
    "\n",
    "    def __init__(self, config):\n",
    "        super().__init__()\n",
    "        self.dropout = config.dropout\n",
    "        self.model_dim = config.model_dim\n",
    "        self.linear = nn.Linear(1, self.model_dim)\n",
    "        self.layers = nn.ModuleList([DecoderLayer(config) for _ in range(config.decoder_layers)])\n",
    "\n",
    "    def forward(\n",
    "            self,\n",
    "            inputs,\n",
    "            encoder_hidden_states,\n",
    "    ):\n",
    "        x = inputs\n",
    "        x = self.linear(x)\n",
    "        x = F.dropout(x, p=self.dropout, training=self.training)\n",
    "        cross_attention_scores = []\n",
    "        for idx, decoder_layer in enumerate(self.layers):\n",
    "            x, layer_cross_attn = decoder_layer(\n",
    "                x,\n",
    "                encoder_hidden_states,\n",
    "            )\n",
    "            cross_attention_scores.append(layer_cross_attn.detach())\n",
    "        return x, cross_attention_scores\n",
    "\n",
    "\n",
    "class Transformer(nn.Module):\n",
    "\n",
    "    def __init__(self, config):\n",
    "        super().__init__()\n",
    "        self.non_lidar_dim = config.non_lidar_dim\n",
    "        self.model_dim = config.model_dim\n",
    "        self.encoder = Encoder(config)\n",
    "        self.decoder = Decoder(config)\n",
    "\n",
    "        self.prediction_head = nn.Linear(self.model_dim * self.non_lidar_dim, 2)\n",
    "\n",
    "        self.init_weights()\n",
    "\n",
    "    def init_weights(self):\n",
    "        for name, param in self.named_parameters():\n",
    "            if param.requires_grad:\n",
    "                if 'weight' in name:\n",
    "                    nn.init.normal_(param.data, mean=0, std=0.01)\n",
    "                else:\n",
    "                    nn.init.constant_(param.data, 0)\n",
    "\n",
    "    def forward(self, src, trg):\n",
    "        encoder_output, encoder_attention_scores = self.encoder(\n",
    "            inputs=src\n",
    "        )\n",
    "        decoder_output, decoder_attention_scores = self.decoder(\n",
    "            trg,\n",
    "            encoder_output\n",
    "        )\n",
    "        decoder_output = decoder_output.view(-1, self.model_dim * self.non_lidar_dim)\n",
    "        decoder_output = self.prediction_head(decoder_output)\n",
    "        \n",
    "        return decoder_output, encoder_attention_scores, decoder_attention_scores"
   ]
  },
  {
   "cell_type": "code",
   "execution_count": 22,
   "metadata": {},
   "outputs": [],
   "source": [
    "def train_model(model, train_loader, loss_fn, optimizer):\n",
    "    model.train()\n",
    "\n",
    "    losses = []\n",
    "    for lidar, non_lidar, actions in tqdm(train_loader):\n",
    "        lidar = lidar.to(device).unsqueeze(-1)\n",
    "        non_lidar = non_lidar.to(device).unsqueeze(-1)\n",
    "        actions = actions.to(device)\n",
    "\n",
    "        actions_pred, _, _ = model(lidar.float(), non_lidar.float())\n",
    "        loss = loss_fn(actions_pred, actions.float())\n",
    "\n",
    "        # Backward pass\n",
    "        optimizer.zero_grad()\n",
    "        loss.backward()\n",
    "        optimizer.step()\n",
    "\n",
    "        # Save the loss\n",
    "        losses.append(loss.item())\n",
    "\n",
    "    # return the average loss for this epoch\n",
    "    return sum(losses)/len(losses)"
   ]
  },
  {
   "cell_type": "code",
   "execution_count": 23,
   "metadata": {},
   "outputs": [],
   "source": [
    "def test_model(model, test_loader, loss_fn):\n",
    "    model.eval()\n",
    "\n",
    "    losses = []\n",
    "    for lidar, non_lidar, actions in tqdm(test_loader):\n",
    "        lidar = lidar.to(device).unsqueeze(-1)\n",
    "        non_lidar = non_lidar.to(device).unsqueeze(-1)\n",
    "        actions = actions.to(device)\n",
    "\n",
    "        actions_pred, _, _ = model(lidar.float(), non_lidar.float())\n",
    "\n",
    "        loss = loss_fn(actions_pred, actions.float())\n",
    "\n",
    "        losses.append(loss.item())\n",
    "\n",
    "    # return the average loss for this epoch\n",
    "    return sum(losses)/len(losses)"
   ]
  },
  {
   "cell_type": "code",
   "execution_count": 24,
   "metadata": {},
   "outputs": [
    {
     "name": "stdout",
     "output_type": "stream",
     "text": [
      "cuda\n"
     ]
    }
   ],
   "source": [
    "import easydict\n",
    "\n",
    "# Initialize the model\n",
    "num_lidar_features = len(train_dataset.lidar_cols)\n",
    "num_non_lidar_features = len(train_dataset.non_lidar_cols)\n",
    "num_actions = len(train_dataset.actions_cols)\n",
    "\n",
    "config_dict = easydict.EasyDict({\n",
    "    \"input_dim\": 32,\n",
    "    \"num_patch\": 36,\n",
    "    \"model_dim\": 32,\n",
    "    \"ffn_dim\": 256,\n",
    "    \"attention_heads\": 4,\n",
    "    \"attention_dropout\": 0.0,\n",
    "    \"dropout\": 0.5,\n",
    "    \"encoder_layers\": 2,\n",
    "    \"decoder_layers\": 2,\n",
    "    \"lidar_dim\": 360,\n",
    "    \"non_lidar_dim\": 4,\n",
    "    \"device\": \"cpu\",\n",
    "})\n",
    "\n",
    "model = Transformer(config_dict)\n",
    "\n",
    "# Define the loss function and optimizer\n",
    "loss_fn = nn.MSELoss()\n",
    "optimizer = optim.Adam(model.parameters(), lr=1e-5)\n",
    "\n",
    "# Move the model and loss function to the GPU if available\n",
    "device = torch.device('cuda' if torch.cuda.is_available() else 'cpu')\n",
    "model = model.to(device)\n",
    "loss_fn = loss_fn.to(device)\n",
    "print(device)"
   ]
  },
  {
   "cell_type": "code",
   "execution_count": 25,
   "metadata": {},
   "outputs": [
    {
     "name": "stderr",
     "output_type": "stream",
     "text": [
      "100%|██████████| 1350/1350 [00:04<00:00, 270.63it/s]\n"
     ]
    },
    {
     "name": "stdout",
     "output_type": "stream",
     "text": [
      "Random val loss: 0.3473640583841889\n"
     ]
    },
    {
     "name": "stderr",
     "output_type": "stream",
     "text": [
      "100%|██████████| 5573/5573 [00:52<00:00, 105.26it/s]\n",
      "100%|██████████| 1350/1350 [00:04<00:00, 284.10it/s]"
     ]
    },
    {
     "name": "stdout",
     "output_type": "stream",
     "text": [
      "Epoch 2/50 | Train Loss: 0.14920923888744148 | Val Loss: 0.031456381092624115\n"
     ]
    },
    {
     "name": "stderr",
     "output_type": "stream",
     "text": [
      "\n",
      "100%|██████████| 5573/5573 [00:52<00:00, 105.75it/s]\n",
      "100%|██████████| 1350/1350 [00:04<00:00, 281.60it/s]"
     ]
    },
    {
     "name": "stdout",
     "output_type": "stream",
     "text": [
      "Epoch 3/50 | Train Loss: 0.037344926524698126 | Val Loss: 0.019525746384633412\n"
     ]
    },
    {
     "name": "stderr",
     "output_type": "stream",
     "text": [
      "\n",
      "100%|██████████| 5573/5573 [00:53<00:00, 104.22it/s]\n",
      "100%|██████████| 1350/1350 [00:04<00:00, 300.22it/s]"
     ]
    },
    {
     "name": "stdout",
     "output_type": "stream",
     "text": [
      "Epoch 4/50 | Train Loss: 0.02536240219196718 | Val Loss: 0.013565705831300606\n"
     ]
    },
    {
     "name": "stderr",
     "output_type": "stream",
     "text": [
      "\n",
      "100%|██████████| 5573/5573 [00:53<00:00, 103.29it/s]\n",
      "100%|██████████| 1350/1350 [00:04<00:00, 310.02it/s]"
     ]
    },
    {
     "name": "stdout",
     "output_type": "stream",
     "text": [
      "Epoch 5/50 | Train Loss: 0.018067979336278062 | Val Loss: 0.01118924979655141\n"
     ]
    },
    {
     "name": "stderr",
     "output_type": "stream",
     "text": [
      "\n",
      "100%|██████████| 5573/5573 [00:47<00:00, 118.15it/s]\n",
      "100%|██████████| 1350/1350 [00:04<00:00, 328.65it/s]"
     ]
    },
    {
     "name": "stdout",
     "output_type": "stream",
     "text": [
      "Epoch 6/50 | Train Loss: 0.015180359162431508 | Val Loss: 0.01107690118615412\n"
     ]
    },
    {
     "name": "stderr",
     "output_type": "stream",
     "text": [
      "\n",
      "100%|██████████| 5573/5573 [00:47<00:00, 117.98it/s]\n",
      "100%|██████████| 1350/1350 [00:04<00:00, 312.74it/s]"
     ]
    },
    {
     "name": "stdout",
     "output_type": "stream",
     "text": [
      "Epoch 7/50 | Train Loss: 0.014210040538224012 | Val Loss: 0.010104251321301692\n"
     ]
    },
    {
     "name": "stderr",
     "output_type": "stream",
     "text": [
      "\n",
      "100%|██████████| 5573/5573 [00:48<00:00, 115.05it/s]\n",
      "100%|██████████| 1350/1350 [00:04<00:00, 278.00it/s]"
     ]
    },
    {
     "name": "stdout",
     "output_type": "stream",
     "text": [
      "Epoch 8/50 | Train Loss: 0.0137784619611644 | Val Loss: 0.010016611613143512\n"
     ]
    },
    {
     "name": "stderr",
     "output_type": "stream",
     "text": [
      "\n",
      "100%|██████████| 5573/5573 [00:50<00:00, 111.19it/s]\n",
      "100%|██████████| 1350/1350 [00:04<00:00, 307.57it/s]"
     ]
    },
    {
     "name": "stdout",
     "output_type": "stream",
     "text": [
      "Epoch 9/50 | Train Loss: 0.01345786269310569 | Val Loss: 0.009253777345271642\n"
     ]
    },
    {
     "name": "stderr",
     "output_type": "stream",
     "text": [
      "\n",
      "100%|██████████| 5573/5573 [00:48<00:00, 116.07it/s]\n",
      "100%|██████████| 1350/1350 [00:04<00:00, 310.15it/s]"
     ]
    },
    {
     "name": "stdout",
     "output_type": "stream",
     "text": [
      "Epoch 10/50 | Train Loss: 0.013239931278564931 | Val Loss: 0.008174212051499463\n"
     ]
    },
    {
     "name": "stderr",
     "output_type": "stream",
     "text": [
      "\n",
      "100%|██████████| 5573/5573 [00:48<00:00, 114.94it/s]\n",
      "100%|██████████| 1350/1350 [00:04<00:00, 316.88it/s]"
     ]
    },
    {
     "name": "stdout",
     "output_type": "stream",
     "text": [
      "Epoch 11/50 | Train Loss: 0.013134188367045177 | Val Loss: 0.007810861113507767\n"
     ]
    },
    {
     "name": "stderr",
     "output_type": "stream",
     "text": [
      "\n",
      "100%|██████████| 5573/5573 [00:47<00:00, 116.74it/s]\n",
      "100%|██████████| 1350/1350 [00:04<00:00, 310.12it/s]"
     ]
    },
    {
     "name": "stdout",
     "output_type": "stream",
     "text": [
      "Epoch 12/50 | Train Loss: 0.012954054891491781 | Val Loss: 0.007745747000618495\n"
     ]
    },
    {
     "name": "stderr",
     "output_type": "stream",
     "text": [
      "\n",
      "100%|██████████| 5573/5573 [00:47<00:00, 117.01it/s]\n",
      "100%|██████████| 1350/1350 [00:04<00:00, 277.57it/s]"
     ]
    },
    {
     "name": "stdout",
     "output_type": "stream",
     "text": [
      "Epoch 13/50 | Train Loss: 0.01287081176628991 | Val Loss: 0.00851207364837777\n"
     ]
    },
    {
     "name": "stderr",
     "output_type": "stream",
     "text": [
      "\n",
      "100%|██████████| 5573/5573 [00:55<00:00, 99.84it/s] \n",
      "100%|██████████| 1350/1350 [00:05<00:00, 262.87it/s]"
     ]
    },
    {
     "name": "stdout",
     "output_type": "stream",
     "text": [
      "Epoch 14/50 | Train Loss: 0.012719721833117629 | Val Loss: 0.008065065815850782\n"
     ]
    },
    {
     "name": "stderr",
     "output_type": "stream",
     "text": [
      "\n",
      "100%|██████████| 5573/5573 [00:55<00:00, 100.78it/s]\n",
      "100%|██████████| 1350/1350 [00:04<00:00, 294.73it/s]"
     ]
    },
    {
     "name": "stdout",
     "output_type": "stream",
     "text": [
      "Epoch 15/50 | Train Loss: 0.012653488568005649 | Val Loss: 0.008941138371937322\n",
      "Early stopping due to no improvement after 3 epochs.\n"
     ]
    },
    {
     "name": "stderr",
     "output_type": "stream",
     "text": [
      "\n"
     ]
    }
   ],
   "source": [
    "import sys\n",
    "NUM_EPOCHS = 50\n",
    "\n",
    "random_val_loss = test_model(model, val_loader, loss_fn)\n",
    "print(\"Random val loss:\", random_val_loss)\n",
    "\n",
    "transformer_train_losses = []\n",
    "transformer_val_losses = []\n",
    "best_val_loss = float('inf')\n",
    "patience = 3\n",
    "no_improve_epochs = 0\n",
    "save_every = 5\n",
    "\n",
    "for epoch in range(1, NUM_EPOCHS+1):\n",
    "    train_loss = train_model(model, train_loader, loss_fn, optimizer)\n",
    "    val_loss = test_model(model, val_loader, loss_fn)\n",
    "    transformer_train_losses.append(train_loss)\n",
    "    transformer_val_losses.append(val_loss)\n",
    "    print(f\"Epoch {epoch+1}/{NUM_EPOCHS} | Train Loss: {train_loss} | Val Loss: {val_loss}\")\n",
    "    sys.stdout.flush()\n",
    "\n",
    "    # Early stopping\n",
    "    if val_loss < best_val_loss:\n",
    "        best_val_loss = val_loss\n",
    "        no_improve_epochs = 0\n",
    "    else:\n",
    "        no_improve_epochs += 1\n",
    "        if no_improve_epochs >= patience:\n",
    "            print(\"Early stopping due to no improvement after {} epochs.\".format(patience))\n",
    "            break"
   ]
  },
  {
   "cell_type": "code",
   "execution_count": 26,
   "metadata": {},
   "outputs": [
    {
     "data": {
      "image/png": "[encoded data removed]",
      "text/plain": [
       "<Figure size 640x480 with 1 Axes>"
      ]
     },
     "metadata": {},
     "output_type": "display_data"
    }
   ],
   "source": [
    "# plot the loss\n",
    "import matplotlib.pyplot as plt\n",
    "\n",
    "plt.plot(transformer_train_losses, label='Transformer Train Loss')  \n",
    "plt.plot(transformer_val_losses, label='Transformer Val Loss')\n",
    "plt.xlabel('Epoch')\n",
    "plt.ylabel('Loss')\n",
    "plt.legend()\n",
    "plt.show();"
   ]
  },
  {
   "cell_type": "code",
   "execution_count": 27,
   "metadata": {},
   "outputs": [],
   "source": [
    "# save the model\n",
    "torch.save(model.state_dict(), 'models/transformer_model.pth')"
   ]
  },
  {
   "cell_type": "code",
   "execution_count": 28,
   "metadata": {},
   "outputs": [],
   "source": [
    "def test_model(model, test_loader, loss_fn):\n",
    "    model.eval()\n",
    "\n",
    "    losses = []\n",
    "    for lidar, non_lidar, actions in tqdm(test_loader):\n",
    "        # Move the data to the device that is used\n",
    "        lidar = lidar.to(device).unsqueeze(-1)\n",
    "        non_lidar = non_lidar.to(device).unsqueeze(-1)\n",
    "        actions = actions.to(device)\n",
    "\n",
    "        # Forward pass\n",
    "        actions_pred, _, _ = model(lidar.float(), non_lidar.float())        \n",
    "        loss = loss_fn(actions_pred, actions.float())\n",
    "        if loss.item() > 0.01:\n",
    "            print(actions_pred - actions)\n",
    "            print(loss)\n",
    "\n",
    "        # Save the loss\n",
    "        losses.append(loss.item())\n",
    "\n",
    "    # return the average loss for this epoch\n",
    "    return sum(losses)/len(losses)"
   ]
  },
  {
   "cell_type": "code",
   "execution_count": 29,
   "metadata": {},
   "outputs": [
    {
     "name": "stdout",
     "output_type": "stream",
     "text": [
      "1789\n"
     ]
    },
    {
     "name": "stderr",
     "output_type": "stream",
     "text": [
      "  0%|          | 0/28 [00:00<?, ?it/s]"
     ]
    },
    {
     "name": "stdout",
     "output_type": "stream",
     "text": [
      "tensor([[ 6.7221e-01,  1.0194e-01],\n",
      "        [ 6.4511e-01,  9.7106e-02],\n",
      "        [ 6.1486e-01,  9.2488e-02],\n",
      "        [ 5.8452e-01,  1.0445e-01],\n",
      "        [ 5.5412e-01,  1.0261e-01],\n",
      "        [ 5.2339e-01,  3.6847e-02],\n",
      "        [ 4.9283e-01,  3.5109e-02],\n",
      "        [ 4.6220e-01,  3.3313e-02],\n",
      "        [ 4.3457e-01,  3.1314e-02],\n",
      "        [ 4.0377e-01,  2.9532e-02],\n",
      "        [ 3.7293e-01,  2.7730e-02],\n",
      "        [ 3.4185e-01,  2.5696e-02],\n",
      "        [ 3.1384e-01,  2.3023e-02],\n",
      "        [ 2.8273e-01,  2.0897e-02],\n",
      "        [ 2.5458e-01,  1.8663e-02],\n",
      "        [ 2.2335e-01,  1.6294e-02],\n",
      "        [ 1.9196e-01,  1.4176e-02],\n",
      "        [ 1.6363e-01,  1.1926e-02],\n",
      "        [ 1.3215e-01,  1.8920e-02],\n",
      "        [ 1.0369e-01,  1.6965e-02],\n",
      "        [ 7.2044e-02,  1.5086e-02],\n",
      "        [ 4.3553e-02,  1.3852e-02],\n",
      "        [ 1.1833e-02,  1.2782e-02],\n",
      "        [-1.6883e-02,  1.1512e-02],\n",
      "        [-3.5603e-02,  1.1212e-02],\n",
      "        [-3.7498e-02, -3.5586e-04],\n",
      "        [-3.6418e-02, -2.6153e-05],\n",
      "        [-3.8480e-02, -1.7361e-04],\n",
      "        [-3.7407e-02, -2.3453e-03],\n",
      "        [-3.6641e-02, -3.9705e-03],\n",
      "        [-3.8671e-02,  8.0007e-03],\n",
      "        [-3.7702e-02,  6.5322e-03],\n",
      "        [-3.6824e-02,  1.4559e-02],\n",
      "        [-3.8801e-02,  1.3917e-02],\n",
      "        [-3.7764e-02,  1.3068e-02],\n",
      "        [-3.6773e-02,  1.6167e-02],\n",
      "        [-3.8733e-02,  1.5815e-02],\n",
      "        [-3.7654e-02,  1.5089e-02],\n",
      "        [-3.9602e-02,  2.2551e-02],\n",
      "        [-3.8587e-02,  2.1823e-02],\n",
      "        [-3.7383e-02,  2.1230e-02],\n",
      "        [-3.9397e-02,  2.1448e-02],\n",
      "        [-3.8209e-02,  2.0781e-02],\n",
      "        [-3.7148e-02,  2.0331e-02],\n",
      "        [-3.9133e-02,  2.0345e-02],\n",
      "        [-3.8040e-02,  2.0514e-02],\n",
      "        [-3.6949e-02,  2.0044e-02],\n",
      "        [-3.8770e-02,  2.0240e-02],\n",
      "        [-3.7766e-02,  1.9507e-02],\n",
      "        [-3.6659e-02,  1.9074e-02],\n",
      "        [-3.8624e-02,  1.9320e-02],\n",
      "        [-3.7644e-02,  1.8689e-02],\n",
      "        [-3.9716e-02,  1.8776e-02],\n",
      "        [-3.8457e-02,  1.8496e-02],\n",
      "        [-3.7347e-02,  1.7582e-02],\n",
      "        [-3.9466e-02,  1.7606e-02],\n",
      "        [-3.8244e-02,  1.7408e-02],\n",
      "        [-3.7071e-02,  1.7136e-02],\n",
      "        [-3.8970e-02,  2.3717e-02],\n",
      "        [-3.7857e-02,  2.2739e-02],\n",
      "        [-3.6605e-02,  2.3133e-02],\n",
      "        [-3.8568e-02,  2.3535e-02],\n",
      "        [-3.7553e-02,  2.2731e-02],\n",
      "        [-3.9546e-02,  2.2960e-02]], dtype=torch.float64,\n",
      "       grad_fn=<SubBackward0>)\n",
      "tensor(0.0293, grad_fn=<MseLossBackward0>)\n"
     ]
    },
    {
     "name": "stderr",
     "output_type": "stream",
     "text": [
      " 39%|███▉      | 11/28 [00:00<00:00, 103.16it/s]"
     ]
    },
    {
     "name": "stdout",
     "output_type": "stream",
     "text": [
      "tensor([[-0.1027,  0.0530],\n",
      "        [-0.1069,  0.0990],\n",
      "        [-0.1044,  0.1584],\n",
      "        [-0.0724,  0.2642],\n",
      "        [-0.0597, -0.0964],\n",
      "        [-0.0584, -0.0080],\n",
      "        [-0.0572, -0.2394],\n",
      "        [-0.0530, -0.2378],\n",
      "        [-0.0540, -0.2034],\n",
      "        [-0.0478, -0.1956],\n",
      "        [-0.0447, -0.1978],\n",
      "        [-0.0459, -0.2825],\n",
      "        [-0.0438, -0.1538],\n",
      "        [-0.0433, -0.1261],\n",
      "        [-0.0444, -0.1249],\n",
      "        [-0.0434, -0.2561],\n",
      "        [-0.0459, -0.2257],\n",
      "        [-0.0388, -0.1332],\n",
      "        [-0.0349, -0.1592],\n",
      "        [-0.0291, -0.1667],\n",
      "        [-0.0276, -0.2913],\n",
      "        [-0.0247, -0.3084],\n",
      "        [-0.0241, -0.1633],\n",
      "        [-0.0237, -0.1865],\n",
      "        [-0.0237, -0.1817],\n",
      "        [-0.0204, -0.2099],\n",
      "        [-0.0203, -0.1807],\n",
      "        [-0.0243, -0.2180],\n",
      "        [-0.0311, -0.2164],\n",
      "        [-0.0394, -0.1694],\n",
      "        [-0.0430, -0.1446],\n",
      "        [-0.0464, -0.0703],\n",
      "        [-0.0205, -0.0976],\n",
      "        [-0.0269, -0.1410],\n",
      "        [-0.0357, -0.2586],\n",
      "        [-0.0430, -0.1636],\n",
      "        [-0.0468, -0.0816],\n",
      "        [-0.0365, -0.1213],\n",
      "        [-0.0256, -0.0875],\n",
      "        [-0.0356, -0.2238],\n",
      "        [-0.0465, -0.1187],\n",
      "        [-0.0614,  0.0440],\n",
      "        [-0.0357,  0.1290],\n",
      "        [-0.0241,  0.0486],\n",
      "        [-0.0351,  0.0647],\n",
      "        [-0.0436,  0.1474],\n",
      "        [-0.0521,  0.1859],\n",
      "        [-0.0662,  0.0685],\n",
      "        [-0.0103, -0.1022],\n",
      "        [-0.0169, -0.0492],\n",
      "        [-0.0221,  0.0453],\n",
      "        [-0.0247,  0.1251],\n",
      "        [-0.0123,  0.0149],\n",
      "        [-0.0113,  0.0710],\n",
      "        [-0.0097,  0.0925],\n",
      "        [-0.0077,  0.1385],\n",
      "        [-0.0178,  0.0467],\n",
      "        [-0.0142,  0.0594],\n",
      "        [-0.0113,  0.0664],\n",
      "        [-0.0115,  0.0737],\n",
      "        [-0.0138,  0.0421],\n",
      "        [-0.0121,  0.0359],\n",
      "        [-0.0149,  0.0464],\n",
      "        [-0.0181,  0.0231]], dtype=torch.float64, grad_fn=<SubBackward0>)\n",
      "tensor(0.0131, grad_fn=<MseLossBackward0>)\n",
      "tensor([[-0.0311, -0.0230],\n",
      "        [-0.0297, -0.0265],\n",
      "        [-0.0284, -0.0267],\n",
      "        [-0.0302, -0.0321],\n",
      "        [-0.0289, -0.0331],\n",
      "        [-0.0274, -0.0307],\n",
      "        [-0.0290, -0.0328],\n",
      "        [-0.0275, -0.0313],\n",
      "        [-0.0292, -0.0292],\n",
      "        [-0.0276, -0.0267],\n",
      "        [-0.0258, -0.0224],\n",
      "        [-0.0275, -0.0187],\n",
      "        [-0.0257, -0.0123],\n",
      "        [-0.0273, -0.0166],\n",
      "        [-0.0252, -0.0078],\n",
      "        [-0.0269, -0.0093],\n",
      "        [-0.0246,  0.0221],\n",
      "        [-0.0263,  0.0207],\n",
      "        [-0.0280,  0.0165],\n",
      "        [-0.0299,  0.0156],\n",
      "        [-0.0318,  0.0146],\n",
      "        [-0.0338, -0.0085],\n",
      "        [ 0.3759,  0.1949],\n",
      "        [ 0.3490,  0.1609],\n",
      "        [ 0.3196,  0.1182],\n",
      "        [ 0.2901,  0.0789],\n",
      "        [ 0.2607,  0.0347],\n",
      "        [ 0.2344,  0.0074],\n",
      "        [ 0.2048, -0.0373],\n",
      "        [ 0.1758, -0.0832],\n",
      "        [ 0.1497, -0.0474],\n",
      "        [ 0.1202, -0.0879],\n",
      "        [ 0.0978, -0.1498],\n",
      "        [ 0.0696, -0.1781],\n",
      "        [ 0.0382, -0.2139],\n",
      "        [ 0.0091, -0.2305],\n",
      "        [-0.0229, -0.2639],\n",
      "        [-0.0521, -0.3137],\n",
      "        [-0.0744, -0.3370],\n",
      "        [-0.0737, -0.3313],\n",
      "        [-0.0756, -0.2764],\n",
      "        [-0.0740, -0.2737],\n",
      "        [-0.0679, -0.3202],\n",
      "        [-0.0654, -0.3223],\n",
      "        [-0.0658, -0.3343],\n",
      "        [-0.0627, -0.2343],\n",
      "        [-0.0589, -0.2447],\n",
      "        [-0.0531, -0.2548],\n",
      "        [-0.0506, -0.2607],\n",
      "        [-0.0514, -0.2723],\n",
      "        [-0.0494, -0.2393],\n",
      "        [-0.0472, -0.2460],\n",
      "        [-0.0483, -0.2086],\n",
      "        [-0.0461, -0.2170],\n",
      "        [-0.0470, -0.2302],\n",
      "        [-0.0450, -0.1164],\n",
      "        [-0.0429, -0.1245],\n",
      "        [-0.0410, -0.1267],\n",
      "        [-0.0395, -0.1322],\n",
      "        [-0.0409, -0.1416],\n",
      "        [-0.0391, -0.1298],\n",
      "        [-0.0375, -0.1359],\n",
      "        [-0.0392, -0.1037],\n",
      "        [-0.0374, -0.1110]], dtype=torch.float64, grad_fn=<SubBackward0>)\n",
      "tensor(0.0207, grad_fn=<MseLossBackward0>)\n",
      "tensor([[-0.0421,  0.0902],\n",
      "        [-0.0436,  0.1053],\n",
      "        [-0.0354,  0.1633],\n",
      "        [-0.0380,  0.1440],\n",
      "        [-0.0376,  0.1390],\n",
      "        [-0.0399,  0.1476],\n",
      "        [-0.0476,  0.1663],\n",
      "        [-0.0485,  0.1007],\n",
      "        [-0.0532,  0.1772],\n",
      "        [-0.0608,  0.1637],\n",
      "        [-0.0746,  0.0553],\n",
      "        [-0.0835,  0.0200],\n",
      "        [-0.0930,  0.0504],\n",
      "        [-0.1017,  0.0162],\n",
      "        [-0.0973,  0.0361],\n",
      "        [-0.0897,  0.1251],\n",
      "        [-0.0521,  0.2141],\n",
      "        [-0.0577,  0.1220],\n",
      "        [-0.0705,  0.0708],\n",
      "        [-0.0854,  0.0187],\n",
      "        [-0.0964,  0.0110],\n",
      "        [-0.1086,  0.0333],\n",
      "        [-0.1141, -0.0840],\n",
      "        [-0.0877, -0.1145],\n",
      "        [-0.0836, -0.0747],\n",
      "        [-0.0867, -0.1087],\n",
      "        [-0.0972, -0.1471],\n",
      "        [-0.0946, -0.0854],\n",
      "        [-0.1049, -0.0947],\n",
      "        [-0.0829, -0.0949],\n",
      "        [-0.0731, -0.0947],\n",
      "        [-0.0758, -0.1315],\n",
      "        [-0.0829, -0.1796],\n",
      "        [-0.0819,  0.0692],\n",
      "        [-0.0836,  0.0600],\n",
      "        [-0.0622,  0.1354],\n",
      "        [-0.0519,  0.2020],\n",
      "        [-0.0520, -0.2496],\n",
      "        [-0.0491, -0.1979],\n",
      "        [-0.0448, -0.1516],\n",
      "        [-0.0451, -0.1407],\n",
      "        [-0.0466, -0.1257],\n",
      "        [-0.0410, -0.2644],\n",
      "        [-0.0380, -0.2433],\n",
      "        [-0.0345, -0.2110],\n",
      "        [-0.0371, -0.2201],\n",
      "        [-0.0323, -0.2293],\n",
      "        [-0.0330, -0.4098],\n",
      "        [-0.0300, -0.4001],\n",
      "        [-0.0259, -0.3769],\n",
      "        [-0.0265, -0.2531],\n",
      "        [-0.0182, -0.1615],\n",
      "        [-0.0156, -0.1822],\n",
      "        [-0.0175, -0.1801],\n",
      "        [-0.0142, -0.1001],\n",
      "        [-0.0155, -0.0919],\n",
      "        [-0.0192, -0.0210],\n",
      "        [-0.0167, -0.0160],\n",
      "        [-0.0104, -0.0824],\n",
      "        [-0.0062, -0.1062],\n",
      "        [-0.0049, -0.0902],\n",
      "        [-0.0110, -0.0105],\n",
      "        [-0.0101,  0.0200],\n",
      "        [-0.0143, -0.0034]], dtype=torch.float64, grad_fn=<SubBackward0>)\n",
      "tensor(0.0145, grad_fn=<MseLossBackward0>)\n",
      "tensor([[-0.0306, -0.0106],\n",
      "        [-0.0325, -0.0171],\n",
      "        [-0.0313, -0.0048],\n",
      "        [-0.0301, -0.0061],\n",
      "        [-0.0319, -0.0148],\n",
      "        [-0.0306, -0.0122],\n",
      "        [-0.0293, -0.0141],\n",
      "        [-0.0311, -0.0069],\n",
      "        [-0.0299, -0.0066],\n",
      "        [-0.0317, -0.0326],\n",
      "        [-0.0303, -0.0317],\n",
      "        [-0.0291, -0.0310],\n",
      "        [-0.0309, -0.0238],\n",
      "        [-0.0296, -0.0184],\n",
      "        [-0.0286, -0.0145],\n",
      "        [-0.0305, -0.0135],\n",
      "        [-0.0290, -0.0146],\n",
      "        [-0.0278, -0.0232],\n",
      "        [-0.0296, -0.0266],\n",
      "        [-0.0283, -0.0297],\n",
      "        [-0.0269, -0.0298],\n",
      "        [-0.0286, -0.0301],\n",
      "        [-0.0271, -0.0301],\n",
      "        [-0.0289, -0.0323],\n",
      "        [-0.0273, -0.0378],\n",
      "        [-0.0255, -0.0306],\n",
      "        [-0.0272, -0.0314],\n",
      "        [-0.0254, -0.0224],\n",
      "        [-0.0270, -0.0269],\n",
      "        [-0.0250, -0.0096],\n",
      "        [-0.0267, -0.0128],\n",
      "        [-0.0245, -0.0010],\n",
      "        [-0.0261, -0.0082],\n",
      "        [-0.0278, -0.0123],\n",
      "        [-0.0296, -0.0149],\n",
      "        [-0.0314, -0.0144],\n",
      "        [-0.0334, -0.0131],\n",
      "        [-0.0354, -0.0187],\n",
      "        [-0.0376, -0.0193],\n",
      "        [-0.0398, -0.0233],\n",
      "        [-0.0422, -0.0243],\n",
      "        [ 0.5869,  0.1185],\n",
      "        [ 0.5565,  0.1114],\n",
      "        [ 0.5261,  0.1041],\n",
      "        [ 0.4955,  0.0968],\n",
      "        [ 0.4649,  0.0892],\n",
      "        [ 0.4374,  0.0820],\n",
      "        [ 0.4067,  0.0737],\n",
      "        [ 0.3759,  0.0651],\n",
      "        [ 0.3451,  0.0570],\n",
      "        [ 0.3173,  0.0502],\n",
      "        [ 0.2864,  0.0486],\n",
      "        [ 0.2553,  0.0399],\n",
      "        [ 0.2274,  0.0331],\n",
      "        [ 0.1962,  0.0237],\n",
      "        [ 0.1682,  0.0167],\n",
      "        [ 0.1368,  0.0152],\n",
      "        [ 0.1086,  0.0089],\n",
      "        [ 0.0771,  0.0022],\n",
      "        [ 0.0485,  0.0014],\n",
      "        [ 0.0167, -0.0042],\n",
      "        [-0.0120, -0.0146],\n",
      "        [-0.0339, -0.0178],\n",
      "        [-0.0328, -0.0157]], dtype=torch.float64, grad_fn=<SubBackward0>)\n",
      "tensor(0.0200, grad_fn=<MseLossBackward0>)\n"
     ]
    },
    {
     "name": "stderr",
     "output_type": "stream",
     "text": [
      " 82%|████████▏ | 23/28 [00:00<00:00, 102.91it/s]"
     ]
    },
    {
     "name": "stdout",
     "output_type": "stream",
     "text": [
      "tensor([[-0.0398,  0.0129],\n",
      "        [-0.0396,  0.0025],\n",
      "        [-0.0396,  0.0267],\n",
      "        [-0.0421,  0.0398],\n",
      "        [-0.0423,  0.0483],\n",
      "        [-0.0420,  0.0397],\n",
      "        [-0.0419,  0.0614],\n",
      "        [-0.0429,  0.0964],\n",
      "        [-0.0488,  0.1392],\n",
      "        [-0.0515,  0.1444],\n",
      "        [-0.0556,  0.1299],\n",
      "        [-0.0629,  0.0827],\n",
      "        [-0.0412,  0.2479],\n",
      "        [-0.0437,  0.1799],\n",
      "        [-0.0457,  0.1929],\n",
      "        [-0.0524,  0.1642],\n",
      "        [-0.0613,  0.1244],\n",
      "        [-0.0743,  0.0917],\n",
      "        [-0.0875,  0.0650],\n",
      "        [-0.0974,  0.0633],\n",
      "        [-0.1110,  0.0354],\n",
      "        [-0.1188,  0.0129],\n",
      "        [-0.1278, -0.0327],\n",
      "        [-0.1232, -0.0241],\n",
      "        [-0.0624,  0.1624],\n",
      "        [-0.0768,  0.2890],\n",
      "        [-0.0897,  0.2056],\n",
      "        [-0.1080,  0.2331],\n",
      "        [-0.1201,  0.1999],\n",
      "        [-0.1299,  0.1660],\n",
      "        [-0.1363,  0.0679],\n",
      "        [-0.1363,  0.0944],\n",
      "        [-0.1187,  0.0585],\n",
      "        [-0.1044,  0.1132],\n",
      "        [-0.1196,  0.0811],\n",
      "        [-0.1343,  0.0589],\n",
      "        [-0.1404,  0.0396],\n",
      "        [-0.1044,  0.0746],\n",
      "        [-0.0973, -0.0809],\n",
      "        [-0.0998,  0.1423],\n",
      "        [-0.1031,  0.1393],\n",
      "        [-0.0962,  0.2057],\n",
      "        [-0.0669,  0.3208],\n",
      "        [-0.0628, -0.0634],\n",
      "        [-0.0627,  0.0390],\n",
      "        [-0.0609, -0.1555],\n",
      "        [-0.0576, -0.2421],\n",
      "        [-0.0553, -0.2235],\n",
      "        [-0.0512, -0.3533],\n",
      "        [-0.0491, -0.3426],\n",
      "        [-0.0502, -0.3420],\n",
      "        [-0.0474, -0.4089],\n",
      "        [-0.0475, -0.3801],\n",
      "        [-0.0497, -0.3451],\n",
      "        [-0.0509, -0.3295],\n",
      "        [-0.0429, -0.3114],\n",
      "        [-0.0431, -0.3291],\n",
      "        [-0.0450, -0.3187],\n",
      "        [-0.0313, -0.2893],\n",
      "        [-0.0300, -0.3016],\n",
      "        [-0.0276, -0.3142],\n",
      "        [-0.0248, -0.2409],\n",
      "        [-0.0257, -0.2176],\n",
      "        [-0.0265, -0.2194]], dtype=torch.float64, grad_fn=<SubBackward0>)\n",
      "tensor(0.0231, grad_fn=<MseLossBackward0>)\n"
     ]
    },
    {
     "name": "stderr",
     "output_type": "stream",
     "text": [
      "100%|██████████| 28/28 [00:00<00:00, 106.08it/s]"
     ]
    },
    {
     "name": "stdout",
     "output_type": "stream",
     "text": [
      "Final val loss: 0.006180316496673706\n"
     ]
    },
    {
     "name": "stderr",
     "output_type": "stream",
     "text": [
      "\n"
     ]
    },
    {
     "ename": "",
     "evalue": "",
     "output_type": "error",
     "traceback": [
      "\u001b[1;31mThe Kernel crashed while executing code in the current cell or a previous cell. \n",
      "\u001b[1;31mPlease review the code in the cell(s) to identify a possible cause of the failure. \n",
      "\u001b[1;31mClick <a href='https://aka.ms/vscodeJupyterKernelCrash'>here</a> for more info. \n",
      "\u001b[1;31mView Jupyter <a href='command:jupyter.viewOutput'>log</a> for further details."
     ]
    }
   ],
   "source": [
    "model = Transformer(config_dict)\n",
    "model.load_state_dict(torch.load('models/transformer_model.pth', map_location=torch.device('cpu')))\n",
    "model.eval()\n",
    "device = 'cpu'\n",
    "\n",
    "# take world idx 0 as example\n",
    "dataset = KULBarnDataset(df[df['world_idx'] == 0], \"val\")\n",
    "print(len(dataset))\n",
    "loader = DataLoader(dataset, batch_size=64, shuffle=False)\n",
    "\n",
    "final_val_loss = test_model(model, loader, loss_fn)\n",
    "print(\"Final val loss:\", final_val_loss)"
   ]
  },
  {
   "cell_type": "code",
   "execution_count": null,
   "metadata": {},
   "outputs": [],
   "source": []
  }
 ],
 "metadata": {
  "kernelspec": {
   "display_name": "videocrafter",
   "language": "python",
   "name": "python3"
  },
  "language_info": {
   "codemirror_mode": {
    "name": "ipython",
    "version": 3
   },
   "file_extension": ".py",
   "mimetype": "text/x-python",
   "name": "python",
   "nbconvert_exporter": "python",
   "pygments_lexer": "ipython3",
   "version": "3.8.5"
  }
 },
 "nbformat": 4,
 "nbformat_minor": 2
}
